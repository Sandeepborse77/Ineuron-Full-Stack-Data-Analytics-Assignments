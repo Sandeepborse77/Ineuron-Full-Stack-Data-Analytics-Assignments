{
  "nbformat": 4,
  "nbformat_minor": 0,
  "metadata": {
    "colab": {
      "provenance": []
    },
    "kernelspec": {
      "name": "python3",
      "display_name": "Python 3"
    },
    "language_info": {
      "name": "python"
    }
  },
  "cells": [
    {
      "cell_type": "markdown",
      "source": [
        "### 1. Write a Python program to Extract Unique values dictionary values?"
      ],
      "metadata": {
        "id": "C3M8Ab1f_9Zt"
      }
    },
    {
      "cell_type": "code",
      "execution_count": 1,
      "metadata": {
        "id": "-J-7Yp0g_5zz",
        "colab": {
          "base_uri": "https://localhost:8080/"
        },
        "outputId": "82b12aec-657c-451d-a920-2373fc0af0a4"
      },
      "outputs": [
        {
          "output_type": "stream",
          "name": "stdout",
          "text": [
            "Unique Values: [1, 2, 3, 4, 5, 6, 'value1', 'value3']\n"
          ]
        }
      ],
      "source": [
        "def extract_unique_values(dictionary):\n",
        "    unique_values = set()\n",
        "\n",
        "    for values in dictionary.values():\n",
        "        if isinstance(values, list):\n",
        "            unique_values.update(set(values))\n",
        "        else:\n",
        "            unique_values.add(values)\n",
        "\n",
        "    return list(unique_values)\n",
        "\n",
        "# Example usage:\n",
        "sample_dict = {\n",
        "    'key1': 'value1',\n",
        "    'key2': [1, 2, 3, 2, 1],\n",
        "    'key3': 'value3',\n",
        "    'key4': [4, 5, 6]\n",
        "}\n",
        "\n",
        "result = extract_unique_values(sample_dict)\n",
        "print(\"Unique Values:\", result)\n"
      ]
    },
    {
      "cell_type": "markdown",
      "source": [
        "### 2. Write a Python program to find the sum of all items in a dictionary?"
      ],
      "metadata": {
        "id": "k9eIiSb669Is"
      }
    },
    {
      "cell_type": "code",
      "source": [
        "def sum_of_dictionary_items(dictionary):\n",
        "    total_sum = sum(dictionary.values())\n",
        "    return total_sum\n",
        "\n",
        "# Example usage:\n",
        "sample_dict = {\n",
        "    'key1': 10,\n",
        "    'key2': 20,\n",
        "    'key3': 30,\n",
        "    'key4': 40\n",
        "}\n",
        "\n",
        "result = sum_of_dictionary_items(sample_dict)\n",
        "print(\"Sum of Dictionary Items:\", result)\n"
      ],
      "metadata": {
        "colab": {
          "base_uri": "https://localhost:8080/"
        },
        "id": "AnMZqAW87Atu",
        "outputId": "8fe862ac-aded-44eb-e96b-44c75fe8fc9d"
      },
      "execution_count": 2,
      "outputs": [
        {
          "output_type": "stream",
          "name": "stdout",
          "text": [
            "Sum of Dictionary Items: 100\n"
          ]
        }
      ]
    },
    {
      "cell_type": "markdown",
      "source": [
        "### 3. Write a Python program to Merging two Dictionaries?"
      ],
      "metadata": {
        "id": "Wr4VQcTf7M_u"
      }
    },
    {
      "cell_type": "code",
      "source": [
        "def merge_dictionaries(dict1, dict2):\n",
        "    merged_dict = dict1.copy()  # Create a copy of the first dictionary to avoid modifying it directly\n",
        "    merged_dict.update(dict2)  # Update the copy with the contents of the second dictionary\n",
        "    return merged_dict\n",
        "\n",
        "# Example usage:\n",
        "dict1 = {'a': 1, 'b': 2}\n",
        "dict2 = {'b': 3, 'c': 4}\n",
        "\n",
        "merged_result = merge_dictionaries(dict1, dict2)\n",
        "print(\"Merged Dictionary:\", merged_result)\n"
      ],
      "metadata": {
        "colab": {
          "base_uri": "https://localhost:8080/"
        },
        "id": "jnPITwBp7Ri5",
        "outputId": "0c6d29c1-1c10-4bf2-e6af-8e43e16814ed"
      },
      "execution_count": 3,
      "outputs": [
        {
          "output_type": "stream",
          "name": "stdout",
          "text": [
            "Merged Dictionary: {'a': 1, 'b': 3, 'c': 4}\n"
          ]
        }
      ]
    },
    {
      "cell_type": "markdown",
      "source": [
        "### 4. Write a Python program to convert key-values list to flat dictionary?"
      ],
      "metadata": {
        "id": "d7Za4cP07idN"
      }
    },
    {
      "cell_type": "code",
      "source": [
        "def list_to_flat_dict(key_value_list):\n",
        "    flat_dict = {}\n",
        "    for key, value in key_value_list:\n",
        "        flat_dict[key] = value\n",
        "    return flat_dict\n",
        "\n",
        "# Example usage:\n",
        "key_value_list = [('a', 1), ('b', 2), ('c', 3)]\n",
        "\n",
        "flat_dict_result = list_to_flat_dict(key_value_list)\n",
        "print(\"Flat Dictionary:\", flat_dict_result)\n"
      ],
      "metadata": {
        "colab": {
          "base_uri": "https://localhost:8080/"
        },
        "id": "CNtvIh-q7mWN",
        "outputId": "e7be0ce3-ed24-420d-d258-df81db61c6eb"
      },
      "execution_count": 4,
      "outputs": [
        {
          "output_type": "stream",
          "name": "stdout",
          "text": [
            "Flat Dictionary: {'a': 1, 'b': 2, 'c': 3}\n"
          ]
        }
      ]
    },
    {
      "cell_type": "markdown",
      "source": [
        "###5. Write a Python program to insertion at the beginning in OrderedDict?"
      ],
      "metadata": {
        "id": "D1GO-Kfs8GBC"
      }
    },
    {
      "cell_type": "code",
      "source": [
        "from collections import OrderedDict\n",
        "\n",
        "def insert_at_beginning(ordered_dict, key_value_pair):\n",
        "    # Create a new OrderedDict with the provided key-value pair\n",
        "    new_dict = OrderedDict([key_value_pair])\n",
        "\n",
        "    # Update the new OrderedDict with the existing OrderedDict\n",
        "    new_dict.update(ordered_dict)\n",
        "\n",
        "    return new_dict\n",
        "\n",
        "# Example usage:\n",
        "ordered_dict = OrderedDict([('a', 1), ('b', 2), ('c', 3)])\n",
        "new_key_value_pair = ('x', 10)\n",
        "\n",
        "updated_dict = insert_at_beginning(ordered_dict, new_key_value_pair)\n",
        "print(\"Updated OrderedDict:\", updated_dict)\n"
      ],
      "metadata": {
        "colab": {
          "base_uri": "https://localhost:8080/"
        },
        "id": "6QZ8dl9A7v5A",
        "outputId": "01f68653-4496-471f-e675-64ba3190a58d"
      },
      "execution_count": 5,
      "outputs": [
        {
          "output_type": "stream",
          "name": "stdout",
          "text": [
            "Updated OrderedDict: OrderedDict([('x', 10), ('a', 1), ('b', 2), ('c', 3)])\n"
          ]
        }
      ]
    },
    {
      "cell_type": "markdown",
      "source": [
        "### 6. Write a Python program to check order of character in string using OrderedDict()?"
      ],
      "metadata": {
        "id": "kqiZv5eJ80s3"
      }
    },
    {
      "cell_type": "code",
      "source": [
        "from collections import OrderedDict\n",
        "\n",
        "def check_order(input_string, pattern):\n",
        "    # Create an OrderedDict to store the order of characters in the input string\n",
        "    char_order_dict = OrderedDict.fromkeys(input_string)\n",
        "\n",
        "    # Iterate through the pattern and check if each character is in the OrderedDict\n",
        "    for char in pattern:\n",
        "        if char not in char_order_dict:\n",
        "            return False\n",
        "    return True\n",
        "\n",
        "# Example usage:\n",
        "input_str = \"hello world\"\n",
        "pattern_to_check = \"hlo\"\n",
        "\n",
        "result = check_order(input_str, pattern_to_check)\n",
        "\n",
        "if result:\n",
        "    print(f\"The order of characters in '{pattern_to_check}' is maintained in '{input_str}'.\")\n",
        "else:\n",
        "    print(f\"The order of characters in '{pattern_to_check}' is not maintained in '{input_str}'.\")\n"
      ],
      "metadata": {
        "colab": {
          "base_uri": "https://localhost:8080/"
        },
        "id": "SeYiEpqu88di",
        "outputId": "8b4cdb3b-f7e0-44b6-b6e5-8be3472f9fb5"
      },
      "execution_count": 6,
      "outputs": [
        {
          "output_type": "stream",
          "name": "stdout",
          "text": [
            "The order of characters in 'hlo' is maintained in 'hello world'.\n"
          ]
        }
      ]
    },
    {
      "cell_type": "markdown",
      "source": [
        "### 7. Write a Python program to sort Python Dictionaries by Key or Value?"
      ],
      "metadata": {
        "id": "KqjoBmi99ZZa"
      }
    },
    {
      "cell_type": "code",
      "source": [
        "## Sort BY Key\n",
        "def sort_dict_by_key(input_dict):\n",
        "    sorted_dict = dict(sorted(input_dict.items()))\n",
        "    return sorted_dict\n",
        "\n",
        "# Example usage:\n",
        "unsorted_dict = {'b': 2, 'a': 1, 'c': 3}\n",
        "\n",
        "sorted_by_key = sort_dict_by_key(unsorted_dict)\n",
        "print(\"Sorted by Key:\", sorted_by_key)\n"
      ],
      "metadata": {
        "colab": {
          "base_uri": "https://localhost:8080/"
        },
        "id": "rgcesHpN9eW-",
        "outputId": "080d4db9-8710-4fcc-b2ac-de48e6a02c3f"
      },
      "execution_count": 7,
      "outputs": [
        {
          "output_type": "stream",
          "name": "stdout",
          "text": [
            "Sorted by Key: {'a': 1, 'b': 2, 'c': 3}\n"
          ]
        }
      ]
    },
    {
      "cell_type": "code",
      "source": [
        "## Sort By Value\n",
        "def sort_dict_by_value(input_dict):\n",
        "    sorted_dict = dict(sorted(input_dict.items(), key=lambda item: item[1]))\n",
        "    return sorted_dict\n",
        "\n",
        "# Example usage:\n",
        "unsorted_dict = {'b': 2, 'a': 1, 'c': 3}\n",
        "\n",
        "sorted_by_value = sort_dict_by_value(unsorted_dict)\n",
        "print(\"Sorted by Value:\", sorted_by_value)\n"
      ],
      "metadata": {
        "colab": {
          "base_uri": "https://localhost:8080/"
        },
        "id": "qJy4eZ-19vut",
        "outputId": "d72133fa-3aa9-4b14-f89c-e8c9918a9c65"
      },
      "execution_count": 8,
      "outputs": [
        {
          "output_type": "stream",
          "name": "stdout",
          "text": [
            "Sorted by Value: {'a': 1, 'b': 2, 'c': 3}\n"
          ]
        }
      ]
    }
  ]
}