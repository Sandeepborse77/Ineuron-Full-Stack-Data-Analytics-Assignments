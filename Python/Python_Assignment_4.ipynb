{
  "nbformat": 4,
  "nbformat_minor": 0,
  "metadata": {
    "colab": {
      "provenance": []
    },
    "kernelspec": {
      "name": "python3",
      "display_name": "Python 3"
    },
    "language_info": {
      "name": "python"
    }
  },
  "cells": [
    {
      "cell_type": "markdown",
      "source": [
        "1. Write a Python Program to Find the Factorial of a Number?"
      ],
      "metadata": {
        "id": "nNSmj9OGXGZ3"
      }
    },
    {
      "cell_type": "code",
      "execution_count": 1,
      "metadata": {
        "id": "HGcVeJ3RW3A9",
        "colab": {
          "base_uri": "https://localhost:8080/"
        },
        "outputId": "1d54d330-2724-4ed0-e24d-d190bf7e7ed9"
      },
      "outputs": [
        {
          "output_type": "stream",
          "name": "stdout",
          "text": [
            "Enter a number: 5\n",
            "The factorial of 5 is: 120\n"
          ]
        }
      ],
      "source": [
        "def factorial(n):\n",
        "    if n == 0 or n == 1:\n",
        "        return 1\n",
        "    else:\n",
        "        return n * factorial(n-1)\n",
        "\n",
        "# Input from the user\n",
        "num = int(input(\"Enter a number: \"))\n",
        "\n",
        "# Check if the number is negative\n",
        "if num < 0:\n",
        "    print(\"Factorial is not defined for negative numbers.\")\n",
        "else:\n",
        "    result = factorial(num)\n",
        "    print(f\"The factorial of {num} is: {result}\")\n"
      ]
    },
    {
      "cell_type": "markdown",
      "source": [
        "2. Write a Python Program to Display the multiplication Table?"
      ],
      "metadata": {
        "id": "5rwnADhze_0D"
      }
    },
    {
      "cell_type": "code",
      "source": [
        "def multiplication_table(n, up_to=10):\n",
        "    print(f\"Multiplication Table for {n}:\")\n",
        "\n",
        "    for i in range(1, up_to + 1):\n",
        "        result = n * i\n",
        "        print(f\"{n} x {i} = {result}\")\n",
        "\n",
        "# Input from the user\n",
        "num = int(input(\"Enter a number to display its multiplication table: \"))\n",
        "\n",
        "# Display multiplication table up to 10 (default)\n",
        "multiplication_table(num)\n"
      ],
      "metadata": {
        "colab": {
          "base_uri": "https://localhost:8080/"
        },
        "id": "vjmadgZyfDV4",
        "outputId": "861f56d9-a8ea-42fb-f0b0-9cc013965654"
      },
      "execution_count": 2,
      "outputs": [
        {
          "output_type": "stream",
          "name": "stdout",
          "text": [
            "Enter a number to display its multiplication table: 7\n",
            "Multiplication Table for 7:\n",
            "7 x 1 = 7\n",
            "7 x 2 = 14\n",
            "7 x 3 = 21\n",
            "7 x 4 = 28\n",
            "7 x 5 = 35\n",
            "7 x 6 = 42\n",
            "7 x 7 = 49\n",
            "7 x 8 = 56\n",
            "7 x 9 = 63\n",
            "7 x 10 = 70\n"
          ]
        }
      ]
    },
    {
      "cell_type": "markdown",
      "source": [
        "3. Write a Python Program to Print the Fibonacci sequence?"
      ],
      "metadata": {
        "id": "5_6E1D1bfhd7"
      }
    },
    {
      "cell_type": "code",
      "source": [
        "def fibonacci_sequence(n):\n",
        "    fib_sequence = [0, 1]\n",
        "\n",
        "    while len(fib_sequence) < n:\n",
        "        next_term = fib_sequence[-1] + fib_sequence[-2]\n",
        "        fib_sequence.append(next_term)\n",
        "\n",
        "    return fib_sequence\n",
        "\n",
        "# Input from the user\n",
        "num_terms = int(input(\"Enter the number of terms for the Fibonacci sequence: \"))\n",
        "\n",
        "# Display the Fibonacci sequence\n",
        "result = fibonacci_sequence(num_terms)\n",
        "print(f\"Fibonacci Sequence up to {num_terms} terms: {result}\")\n"
      ],
      "metadata": {
        "colab": {
          "base_uri": "https://localhost:8080/"
        },
        "id": "nvlA39xBf2Gd",
        "outputId": "a4351a01-c3a3-460b-8510-91b4d331044d"
      },
      "execution_count": 4,
      "outputs": [
        {
          "output_type": "stream",
          "name": "stdout",
          "text": [
            "Enter the number of terms for the Fibonacci sequence: 7\n",
            "Fibonacci Sequence up to 7 terms: [0, 1, 1, 2, 3, 5, 8]\n"
          ]
        }
      ]
    },
    {
      "cell_type": "markdown",
      "source": [
        "4. Write a Python Program to Check Armstrong Number?"
      ],
      "metadata": {
        "id": "yTD81e9fgI48"
      }
    },
    {
      "cell_type": "code",
      "source": [
        "def is_armstrong_number(number):\n",
        "    # Convert the number to a string to find the number of digits\n",
        "    num_str = str(number)\n",
        "    num_digits = len(num_str)\n",
        "\n",
        "    # Calculate the sum of digits raised to the power of the number of digits\n",
        "    armstrong_sum = sum(int(digit) ** num_digits for digit in num_str)\n",
        "\n",
        "    # Check if the number is an Armstrong number\n",
        "    return armstrong_sum == number\n",
        "\n",
        "# Input from the user\n",
        "num = int(input(\"Enter a number to check if it's an Armstrong number: \"))\n",
        "\n",
        "# Check and display the result\n",
        "if is_armstrong_number(num):\n",
        "    print(f\"{num} is an Armstrong number.\")\n",
        "else:\n",
        "    print(f\"{num} is not an Armstrong number.\")\n"
      ],
      "metadata": {
        "colab": {
          "base_uri": "https://localhost:8080/"
        },
        "id": "Shyn7QsdgVxx",
        "outputId": "c0461791-d73f-422f-f091-44bae25cf5e4"
      },
      "execution_count": 5,
      "outputs": [
        {
          "output_type": "stream",
          "name": "stdout",
          "text": [
            "Enter a number to check if it's an Armstrong number: 19\n",
            "19 is not an Armstrong number.\n"
          ]
        }
      ]
    },
    {
      "cell_type": "markdown",
      "source": [
        "5. Write a Python Program to Find Armstrong Number in an Interval?"
      ],
      "metadata": {
        "id": "W22UKc_fgjxC"
      }
    },
    {
      "cell_type": "code",
      "source": [
        "def is_armstrong_number(number):\n",
        "    # Convert the number to a string to find the number of digits\n",
        "    num_str = str(number)\n",
        "    num_digits = len(num_str)\n",
        "\n",
        "    # Calculate the sum of digits raised to the power of the number of digits\n",
        "    armstrong_sum = sum(int(digit) ** num_digits for digit in num_str)\n",
        "\n",
        "    # Check if the number is an Armstrong number\n",
        "    return armstrong_sum == number\n",
        "\n",
        "def find_armstrong_numbers(start, end):\n",
        "    armstrong_numbers = []\n",
        "\n",
        "    for num in range(start, end + 1):\n",
        "        if is_armstrong_number(num):\n",
        "            armstrong_numbers.append(num)\n",
        "\n",
        "    return armstrong_numbers\n",
        "\n",
        "# Input from the user\n",
        "start_range = int(input(\"Enter the start of the interval: \"))\n",
        "end_range = int(input(\"Enter the end of the interval: \"))\n",
        "\n",
        "# Find and display Armstrong numbers in the specified interval\n",
        "result = find_armstrong_numbers(start_range, end_range)\n",
        "print(f\"Armstrong numbers in the interval [{start_range}, {end_range}]: {result}\")\n"
      ],
      "metadata": {
        "colab": {
          "base_uri": "https://localhost:8080/"
        },
        "id": "7rTgcJeVgo0O",
        "outputId": "b0370c9b-71f5-4f76-97ec-8b2e7b1701cf"
      },
      "execution_count": 6,
      "outputs": [
        {
          "output_type": "stream",
          "name": "stdout",
          "text": [
            "Enter the start of the interval: 48\n",
            "Enter the end of the interval: 91\n",
            "Armstrong numbers in the interval [48, 91]: []\n"
          ]
        }
      ]
    },
    {
      "cell_type": "markdown",
      "source": [
        "6. Write a Python Program to Find the Sum of Natural Numbers?"
      ],
      "metadata": {
        "id": "Ra7ho__xhBBw"
      }
    },
    {
      "cell_type": "code",
      "source": [
        "def sum_of_natural_numbers(n):\n",
        "    # Calculate the sum using the formula: sum = n * (n + 1) / 2\n",
        "    sum_result = n * (n + 1) // 2\n",
        "    return sum_result\n",
        "\n",
        "# Input from the user\n",
        "num = int(input(\"Enter a positive integer: \"))\n",
        "\n",
        "# Check if the input is a positive integer\n",
        "if num <= 0:\n",
        "    print(\"Please enter a positive integer.\")\n",
        "else:\n",
        "    # Calculate and display the sum of natural numbers up to the given number\n",
        "    result = sum_of_natural_numbers(num)\n",
        "    print(f\"The sum of natural numbers up to {num} is: {result}\")\n",
        "\n"
      ],
      "metadata": {
        "colab": {
          "base_uri": "https://localhost:8080/"
        },
        "id": "kQW1JX_GhFEb",
        "outputId": "89083ad8-87e3-4c50-a7fb-ccb6536717e2"
      },
      "execution_count": 7,
      "outputs": [
        {
          "output_type": "stream",
          "name": "stdout",
          "text": [
            "Enter a positive integer: 98\n",
            "The sum of natural numbers up to 98 is: 4851\n"
          ]
        }
      ]
    }
  ]
}