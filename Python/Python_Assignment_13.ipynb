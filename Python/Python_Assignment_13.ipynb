{
  "nbformat": 4,
  "nbformat_minor": 0,
  "metadata": {
    "colab": {
      "provenance": []
    },
    "kernelspec": {
      "name": "python3",
      "display_name": "Python 3"
    },
    "language_info": {
      "name": "python"
    }
  },
  "cells": [
    {
      "cell_type": "markdown",
      "source": [
        "### 1. Write a program that calculates and prints the value according to the given formula:\n",
        "Q = Square root of [(2 C D)/H]\n",
        "\n",
        "Following are the fixed values of C and H:\n",
        "\n",
        "C is 50. H is 30.\n",
        "\n",
        "D is the variable whose values should be input to your program in a comma-separated sequence.\n",
        "\n",
        "Example\n",
        "\n",
        "Let us assume the following comma separated input sequence is given to the program:\n",
        "\n",
        "100,150,180\n",
        "\n",
        "The output of the program should be:\n",
        "\n",
        "18,22,24"
      ],
      "metadata": {
        "id": "pBi_d9yxBMKE"
      }
    },
    {
      "cell_type": "code",
      "execution_count": 1,
      "metadata": {
        "colab": {
          "base_uri": "https://localhost:8080/"
        },
        "id": "RlMb3aUC-pVo",
        "outputId": "d780ed9a-c303-4757-a749-ee277368cbcd"
      },
      "outputs": [
        {
          "output_type": "stream",
          "name": "stdout",
          "text": [
            "Output of the program: [18, 22, 24]\n"
          ]
        }
      ],
      "source": [
        "import math\n",
        "\n",
        "def calculate_values(input_sequence):\n",
        "    C = 50\n",
        "    H = 30\n",
        "\n",
        "    # Split the input sequence into a list of integers\n",
        "    values_of_D = list(map(int, input_sequence.split(',')))\n",
        "\n",
        "    # Calculate Q for each value of D using the formula\n",
        "    result_values = [int(math.sqrt((2 * C * D) / H)) for D in values_of_D]\n",
        "\n",
        "    return result_values\n",
        "\n",
        "# Example usage:\n",
        "input_sequence = \"100,150,180\"\n",
        "\n",
        "output_values = calculate_values(input_sequence)\n",
        "print(\"Output of the program:\", output_values)\n"
      ]
    },
    {
      "cell_type": "markdown",
      "source": [
        "### 2. Write a program which takes 2 digits, X,Y as input and generates a 2-dimensional array. The element value in the i-th row and j-th column of the array should be i*j."
      ],
      "metadata": {
        "id": "m8-5RVbJBSwp"
      }
    },
    {
      "cell_type": "code",
      "source": [
        "def generate_2d_array(X, Y):\n",
        "    # Create a 2-dimensional array with dimensions X by Y\n",
        "    array_2d = [[i * j for j in range(Y)] for i in range(X)]\n",
        "    return array_2d\n",
        "\n",
        "# Example usage:\n",
        "X = int(input(\"Enter the number of rows (X): \"))\n",
        "Y = int(input(\"Enter the number of columns (Y): \"))\n",
        "\n",
        "result_array = generate_2d_array(X, Y)\n",
        "print(\"Generated 2D Array:\")\n",
        "for row in result_array:\n",
        "    print(row)\n"
      ],
      "metadata": {
        "colab": {
          "base_uri": "https://localhost:8080/"
        },
        "id": "YdBhCef7CJD4",
        "outputId": "26b909a5-f245-43a3-f7f7-6c8029baaaa2"
      },
      "execution_count": 3,
      "outputs": [
        {
          "output_type": "stream",
          "name": "stdout",
          "text": [
            "Enter the number of rows (X): 2\n",
            "Enter the number of columns (Y): 2\n",
            "Generated 2D Array:\n",
            "[0, 0]\n",
            "[0, 1]\n"
          ]
        }
      ]
    },
    {
      "cell_type": "markdown",
      "source": [
        "### 3. Write a program that accepts a comma separated sequence of words as input and prints the words in a comma-separated sequence after sorting them alphabetically."
      ],
      "metadata": {
        "id": "FhGuRgjaDzIg"
      }
    },
    {
      "cell_type": "code",
      "source": [
        "def sort_words(input_sequence):\n",
        "    # Split the input sequence into a list of words\n",
        "    words = input_sequence.split(',')\n",
        "\n",
        "    # Sort the list of words alphabetically\n",
        "    sorted_words = sorted(words)\n",
        "\n",
        "    # Join the sorted words into a comma-separated sequence\n",
        "    result_sequence = ','.join(sorted_words)\n",
        "\n",
        "    return result_sequence\n",
        "\n",
        "# Example usage:\n",
        "input_sequence = input(\"Enter a comma-separated sequence of words: \")\n",
        "\n",
        "sorted_result = sort_words(input_sequence)\n",
        "print(\"Sorted Words:\", sorted_result)\n"
      ],
      "metadata": {
        "colab": {
          "base_uri": "https://localhost:8080/"
        },
        "id": "X9N5trDKF5ZC",
        "outputId": "aaedc02c-d524-448d-8a9d-af6057d44a01"
      },
      "execution_count": 8,
      "outputs": [
        {
          "output_type": "stream",
          "name": "stdout",
          "text": [
            "Enter a comma-separated sequence of words:  there, am, writing, the, code\n",
            "Sorted Words:  am, code, the, there, writing\n"
          ]
        }
      ]
    },
    {
      "cell_type": "markdown",
      "source": [
        "### 4. Write a program that accepts a sequence of whitespace separated words as input and prints the words after removing all duplicate words and sorting them alphanumerically."
      ],
      "metadata": {
        "id": "pq2xB1FwGHMN"
      }
    },
    {
      "cell_type": "code",
      "source": [
        "def process_words(input_sequence):\n",
        "    # Split the input sequence into a list of words\n",
        "    words = input_sequence.split()\n",
        "\n",
        "    # Remove duplicates by converting the list to a set and back to a list\n",
        "    unique_words = list(set(words))\n",
        "\n",
        "    # Sort the list of unique words alphanumerically\n",
        "    sorted_words = sorted(unique_words)\n",
        "\n",
        "    # Join the sorted words into a whitespace-separated sequence\n",
        "    result_sequence = ' '.join(sorted_words)\n",
        "\n",
        "    return result_sequence\n",
        "\n",
        "# Example usage:\n",
        "input_sequence = input(\"Enter a sequence of whitespace-separated words: \")\n",
        "\n",
        "processed_result = process_words(input_sequence)\n",
        "print(\"Processed Words:\", processed_result)\n"
      ],
      "metadata": {
        "colab": {
          "base_uri": "https://localhost:8080/"
        },
        "id": "GsLpl1SwGXcy",
        "outputId": "402d6efa-6a6a-4909-ae83-6db5f1ceaa61"
      },
      "execution_count": 9,
      "outputs": [
        {
          "output_type": "stream",
          "name": "stdout",
          "text": [
            "Enter a sequence of whitespace-separated words: apple orange banana apple cherry orange\n",
            "Processed Words: apple banana cherry orange\n"
          ]
        }
      ]
    },
    {
      "cell_type": "markdown",
      "source": [
        "### 5. Write a program that accepts a sentence and calculate the number of letters and digits."
      ],
      "metadata": {
        "id": "cZx4gyl-G2QI"
      }
    },
    {
      "cell_type": "code",
      "source": [
        "def count_letters_and_digits(sentence):\n",
        "    letters_count = 0\n",
        "    digits_count = 0\n",
        "\n",
        "    for char in sentence:\n",
        "        if char.isalpha():\n",
        "            letters_count += 1\n",
        "        elif char.isdigit():\n",
        "            digits_count += 1\n",
        "\n",
        "    return letters_count, digits_count\n",
        "\n",
        "# Example usage:\n",
        "input_sentence = input(\"Enter a sentence: \")\n",
        "\n",
        "letters, digits = count_letters_and_digits(input_sentence)\n",
        "\n",
        "print(\"Number of letters:\", letters)\n",
        "print(\"Number of digits:\", digits)\n",
        "\n"
      ],
      "metadata": {
        "colab": {
          "base_uri": "https://localhost:8080/"
        },
        "id": "gog-2aFlG98L",
        "outputId": "4537836c-cc4f-4713-b491-9e3c99012939"
      },
      "execution_count": 10,
      "outputs": [
        {
          "output_type": "stream",
          "name": "stdout",
          "text": [
            "Enter a sentence: Today I will eat 45 mangoes and 25 apples.\n",
            "Number of letters: 29\n",
            "Number of digits: 4\n"
          ]
        }
      ]
    },
    {
      "cell_type": "markdown",
      "source": [
        "### 6. A website requires the users to input username and password to register. Write a program to check the validity of password input by users."
      ],
      "metadata": {
        "id": "Fl5fGGnJHWau"
      }
    },
    {
      "cell_type": "code",
      "source": [
        "def is_valid_password(password):\n",
        "    # Check the length of the password\n",
        "    if len(password) < 8:\n",
        "        return False\n",
        "\n",
        "    # Check if the password contains both uppercase and lowercase letters\n",
        "    if not any(char.isupper() for char in password) or not any(char.islower() for char in password):\n",
        "        return False\n",
        "\n",
        "    # Check if the password contains at least one digit\n",
        "    if not any(char.isdigit() for char in password):\n",
        "        return False\n",
        "\n",
        "    # If all checks pass, the password is considered valid\n",
        "    return True\n",
        "\n",
        "# Example usage:\n",
        "input_password = input(\"Enter your password: \")\n",
        "\n",
        "if is_valid_password(input_password):\n",
        "    print(\"Password is valid.\")\n",
        "else:\n",
        "    print(\"Password is invalid. Please follow the password criteria.\")\n"
      ],
      "metadata": {
        "colab": {
          "base_uri": "https://localhost:8080/"
        },
        "id": "4LeRzjEtHaz5",
        "outputId": "e85aa73a-0b01-4142-cdd9-140c773a2c72"
      },
      "execution_count": 11,
      "outputs": [
        {
          "output_type": "stream",
          "name": "stdout",
          "text": [
            "Enter your password: Happy@Bro\n",
            "Password is invalid. Please follow the password criteria.\n"
          ]
        }
      ]
    }
  ]
}