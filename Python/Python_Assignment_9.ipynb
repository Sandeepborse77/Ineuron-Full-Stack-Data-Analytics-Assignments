{
  "nbformat": 4,
  "nbformat_minor": 0,
  "metadata": {
    "colab": {
      "provenance": []
    },
    "kernelspec": {
      "name": "python3",
      "display_name": "Python 3"
    },
    "language_info": {
      "name": "python"
    }
  },
  "cells": [
    {
      "cell_type": "markdown",
      "source": [
        "1. Write a Python program to check if the given number is a Disarium Number?"
      ],
      "metadata": {
        "id": "5jnR-4H2xu3y"
      }
    },
    {
      "cell_type": "code",
      "execution_count": 1,
      "metadata": {
        "colab": {
          "base_uri": "https://localhost:8080/"
        },
        "id": "B25J_-7_xrnK",
        "outputId": "224fd73f-edc5-45bd-8ccf-c49fe5183b0f"
      },
      "outputs": [
        {
          "output_type": "stream",
          "name": "stdout",
          "text": [
            "Enter a number: 135\n",
            "135 is a Disarium number.\n"
          ]
        }
      ],
      "source": [
        "def is_disarium_number(num):\n",
        "    # Convert the number to a string to iterate through its digits\n",
        "    num_str = str(num)\n",
        "\n",
        "    # Calculate the sum of each digit raised to the power of its position\n",
        "    disarium_sum = sum(int(digit) ** (index + 1) for index, digit in enumerate(num_str))\n",
        "\n",
        "    # Check if the sum is equal to the original number\n",
        "    return disarium_sum == num\n",
        "\n",
        "# Example usage\n",
        "num = int(input(\"Enter a number: \"))\n",
        "if is_disarium_number(num):\n",
        "    print(f\"{num} is a Disarium number.\")\n",
        "else:\n",
        "    print(f\"{num} is not a Disarium number.\")\n"
      ]
    },
    {
      "cell_type": "markdown",
      "source": [
        "2. Write a Python program to print all disarium numbers between 1 to 100?"
      ],
      "metadata": {
        "id": "D1cq2I88yVe1"
      }
    },
    {
      "cell_type": "code",
      "source": [
        "def is_disarium_number(num):\n",
        "    num_str = str(num)\n",
        "    disarium_sum = sum(int(digit) ** (index + 1) for index, digit in enumerate(num_str))\n",
        "    return disarium_sum == num\n",
        "\n",
        "def find_disarium_numbers(start, end):\n",
        "    disarium_numbers = [num for num in range(start, end + 1) if is_disarium_number(num)]\n",
        "    return disarium_numbers\n",
        "\n",
        "# Find Disarium numbers between 1 and 100\n",
        "start_range = 1\n",
        "end_range = 100\n",
        "disarium_numbers_list = find_disarium_numbers(start_range, end_range)\n",
        "\n",
        "# Print the Disarium numbers\n",
        "print(f\"Disarium numbers between {start_range} and {end_range}:\")\n",
        "print(disarium_numbers_list)\n"
      ],
      "metadata": {
        "colab": {
          "base_uri": "https://localhost:8080/"
        },
        "id": "63NQGp8jyk7M",
        "outputId": "03c88329-da4a-437d-dc70-cbbc5525c2ca"
      },
      "execution_count": 2,
      "outputs": [
        {
          "output_type": "stream",
          "name": "stdout",
          "text": [
            "Disarium numbers between 1 and 100:\n",
            "[1, 2, 3, 4, 5, 6, 7, 8, 9, 89]\n"
          ]
        }
      ]
    },
    {
      "cell_type": "markdown",
      "source": [
        "3. Write a Python program to check if the given number is Happy Number?"
      ],
      "metadata": {
        "id": "gq6PedAhyt6Q"
      }
    },
    {
      "cell_type": "code",
      "source": [
        "def is_happy_number(num):\n",
        "    seen_numbers = set()\n",
        "    while num != 1 and num not in seen_numbers:\n",
        "        seen_numbers.add(num)\n",
        "        num = sum(int(digit) ** 2 for digit in str(num))\n",
        "    return num == 1\n",
        "\n",
        "# Example usage\n",
        "num = int(input(\"Enter a number: \"))\n",
        "if is_happy_number(num):\n",
        "    print(f\"{num} is a Happy Number.\")\n",
        "else:\n",
        "    print(f\"{num} is not a Happy Number.\")\n"
      ],
      "metadata": {
        "colab": {
          "base_uri": "https://localhost:8080/"
        },
        "id": "agLnxTYPyykR",
        "outputId": "769d7fa4-fb9c-4639-a8f3-94f785895878"
      },
      "execution_count": 3,
      "outputs": [
        {
          "output_type": "stream",
          "name": "stdout",
          "text": [
            "Enter a number: 98\n",
            "98 is not a Happy Number.\n"
          ]
        }
      ]
    },
    {
      "cell_type": "markdown",
      "source": [
        "4. Write a Python program to print all happy numbers between 1 and 100?"
      ],
      "metadata": {
        "id": "wTjFiHafzK9R"
      }
    },
    {
      "cell_type": "code",
      "source": [
        "def is_happy_number(num):\n",
        "    seen_numbers = set()\n",
        "    while num != 1 and num not in seen_numbers:\n",
        "        seen_numbers.add(num)\n",
        "        num = sum(int(digit) ** 2 for digit in str(num))\n",
        "    return num == 1\n",
        "\n",
        "def find_happy_numbers(start, end):\n",
        "    happy_numbers = [num for num in range(start, end + 1) if is_happy_number(num)]\n",
        "    return happy_numbers\n",
        "\n",
        "# Find Happy Numbers between 1 and 100\n",
        "start_range = 1\n",
        "end_range = 100\n",
        "happy_numbers_list = find_happy_numbers(start_range, end_range)\n",
        "\n",
        "# Print the Happy Numbers\n",
        "print(f\"Happy Numbers between {start_range} and {end_range}:\")\n",
        "print(happy_numbers_list)\n"
      ],
      "metadata": {
        "colab": {
          "base_uri": "https://localhost:8080/"
        },
        "id": "WlRFedaezOlA",
        "outputId": "5b8001d7-1c9e-4d03-de7b-cf0f8c7cf770"
      },
      "execution_count": 4,
      "outputs": [
        {
          "output_type": "stream",
          "name": "stdout",
          "text": [
            "Happy Numbers between 1 and 100:\n",
            "[1, 7, 10, 13, 19, 23, 28, 31, 32, 44, 49, 68, 70, 79, 82, 86, 91, 94, 97, 100]\n"
          ]
        }
      ]
    },
    {
      "cell_type": "markdown",
      "source": [
        "5. Write a Python program to determine whether the given number is a Harshad Number?"
      ],
      "metadata": {
        "id": "u9F5ia_0zYyv"
      }
    },
    {
      "cell_type": "code",
      "source": [
        "def is_harshad_number(num):\n",
        "    # Calculate the sum of digits\n",
        "    digit_sum = sum(int(digit) for digit in str(num))\n",
        "\n",
        "    # Check if the number is divisible by the sum of its digits\n",
        "    return num % digit_sum == 0\n",
        "\n",
        "# Example usage\n",
        "num = int(input(\"Enter a number: \"))\n",
        "if is_harshad_number(num):\n",
        "    print(f\"{num} is a Harshad Number.\")\n",
        "else:\n",
        "    print(f\"{num} is not a Harshad Number.\")\n"
      ],
      "metadata": {
        "colab": {
          "base_uri": "https://localhost:8080/"
        },
        "id": "yfjoOmHTzcV7",
        "outputId": "b9451415-ed55-4db0-91be-03cffa57ecf6"
      },
      "execution_count": 5,
      "outputs": [
        {
          "output_type": "stream",
          "name": "stdout",
          "text": [
            "Enter a number: 27\n",
            "27 is a Harshad Number.\n"
          ]
        }
      ]
    },
    {
      "cell_type": "markdown",
      "source": [
        "6. Write a Python program to print all pronic numbers between 1 and 100?"
      ],
      "metadata": {
        "id": "ADXYuSULzsRh"
      }
    },
    {
      "cell_type": "code",
      "source": [
        "def is_pronic_number(num):\n",
        "    # Check if num is a product of two consecutive integers\n",
        "    for n in range(int(num**0.5) + 1):\n",
        "        if n * (n + 1) == num:\n",
        "            return True\n",
        "    return False\n",
        "\n",
        "def find_pronic_numbers(start, end):\n",
        "    pronic_numbers = [num for num in range(start, end + 1) if is_pronic_number(num)]\n",
        "    return pronic_numbers\n",
        "\n",
        "# Find Pronic Numbers between 1 and 100\n",
        "start_range = 1\n",
        "end_range = 100\n",
        "pronic_numbers_list = find_pronic_numbers(start_range, end_range)\n",
        "\n",
        "# Print the Pronic Numbers\n",
        "print(f\"Pronic Numbers between {start_range} and {end_range}:\")\n",
        "print(pronic_numbers_list)\n"
      ],
      "metadata": {
        "colab": {
          "base_uri": "https://localhost:8080/"
        },
        "id": "aMY48RlgzwKR",
        "outputId": "609928de-4c33-4129-9962-eb27d2a44695"
      },
      "execution_count": 6,
      "outputs": [
        {
          "output_type": "stream",
          "name": "stdout",
          "text": [
            "Pronic Numbers between 1 and 100:\n",
            "[2, 6, 12, 20, 30, 42, 56, 72, 90]\n"
          ]
        }
      ]
    }
  ]
}