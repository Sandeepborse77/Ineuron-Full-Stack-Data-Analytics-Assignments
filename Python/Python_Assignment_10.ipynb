{
  "nbformat": 4,
  "nbformat_minor": 0,
  "metadata": {
    "colab": {
      "provenance": []
    },
    "kernelspec": {
      "name": "python3",
      "display_name": "Python 3"
    },
    "language_info": {
      "name": "python"
    }
  },
  "cells": [
    {
      "cell_type": "markdown",
      "source": [
        "### 1. Write a Python program to find sum of elements in list?"
      ],
      "metadata": {
        "id": "s9E-lsG32jMN"
      }
    },
    {
      "cell_type": "code",
      "execution_count": 1,
      "metadata": {
        "colab": {
          "base_uri": "https://localhost:8080/"
        },
        "id": "LKL51gEM07tg",
        "outputId": "10bd03b4-67fd-4756-e0c0-b05e24e2c964"
      },
      "outputs": [
        {
          "output_type": "stream",
          "name": "stdout",
          "text": [
            "The sum of elements in the list [1, 2, 3, 4, 5] is: 15\n"
          ]
        }
      ],
      "source": [
        "def sum_of_elements(input_list):\n",
        "    return sum(input_list)\n",
        "\n",
        "# Example usage\n",
        "my_list = [1, 2, 3, 4, 5]\n",
        "result = sum_of_elements(my_list)\n",
        "\n",
        "print(f\"The sum of elements in the list {my_list} is: {result}\")\n"
      ]
    },
    {
      "cell_type": "markdown",
      "source": [
        "### 2. Write a Python program to  Multiply all numbers in the list?"
      ],
      "metadata": {
        "id": "f4UVP08q3QX3"
      }
    },
    {
      "cell_type": "code",
      "source": [
        "def multiply_all_elements(input_list):\n",
        "    result = 1\n",
        "    for number in input_list:\n",
        "        result *= number\n",
        "    return result\n",
        "\n",
        "# Example usage\n",
        "my_list = [1, 2, 3, 4, 5]\n",
        "result = multiply_all_elements(my_list)\n",
        "\n",
        "print(f\"The product of all elements in the list {my_list} is: {result}\")\n"
      ],
      "metadata": {
        "colab": {
          "base_uri": "https://localhost:8080/"
        },
        "id": "DttOHOhA3T0R",
        "outputId": "c02267ce-4068-4dfd-94a4-b0e524232b63"
      },
      "execution_count": 2,
      "outputs": [
        {
          "output_type": "stream",
          "name": "stdout",
          "text": [
            "The product of all elements in the list [1, 2, 3, 4, 5] is: 120\n"
          ]
        }
      ]
    },
    {
      "cell_type": "markdown",
      "source": [
        "### 3. Write a Python program to find smallest number in a list?"
      ],
      "metadata": {
        "id": "RNfyMwh95gIs"
      }
    },
    {
      "cell_type": "code",
      "source": [
        "def find_smallest_number(input_list):\n",
        "    return min(input_list)\n",
        "\n",
        "# Example usage\n",
        "my_list = [12, 45, 78, 23, 56, 89, 34]\n",
        "smallest_number = find_smallest_number(my_list)\n",
        "\n",
        "print(f\"The smallest number in the list {my_list} is: {smallest_number}\")\n"
      ],
      "metadata": {
        "colab": {
          "base_uri": "https://localhost:8080/"
        },
        "id": "WMIpW5bV5hHj",
        "outputId": "ccf85021-1626-4aba-ef2c-747ae50fdaf6"
      },
      "execution_count": 9,
      "outputs": [
        {
          "output_type": "stream",
          "name": "stdout",
          "text": [
            "The smallest number in the list [12, 45, 78, 23, 56, 89, 34] is: 12\n"
          ]
        }
      ]
    },
    {
      "cell_type": "markdown",
      "source": [
        "### 4. Write a Python program to find largest number in a list?"
      ],
      "metadata": {
        "id": "S8xyJ8dS3bxO"
      }
    },
    {
      "cell_type": "code",
      "source": [
        "def find_largest_number(input_list):\n",
        "    return max(input_list)\n",
        "\n",
        "# Example usage\n",
        "my_list = [12, 45, 78, 23, 56, 89, 34]\n",
        "largest_number = find_largest_number(my_list)\n",
        "\n",
        "print(f\"The largest number in the list {my_list} is: {largest_number}\")\n"
      ],
      "metadata": {
        "colab": {
          "base_uri": "https://localhost:8080/"
        },
        "id": "5fhh8TrB3fXQ",
        "outputId": "ce4d4782-b7cb-42f3-b1b2-0a77c2efa086"
      },
      "execution_count": 3,
      "outputs": [
        {
          "output_type": "stream",
          "name": "stdout",
          "text": [
            "The largest number in the list [12, 45, 78, 23, 56, 89, 34] is: 89\n"
          ]
        }
      ]
    },
    {
      "cell_type": "markdown",
      "source": [
        "### 5. Write a Python program to find second largest number in a list?"
      ],
      "metadata": {
        "id": "J-h2qzoX3nuY"
      }
    },
    {
      "cell_type": "code",
      "source": [
        "def find_second_largest_number(input_list):\n",
        "    sorted_list = sorted(input_list, reverse=True)\n",
        "\n",
        "    # Ensure there are at least two elements in the list\n",
        "    if len(sorted_list) >= 2:\n",
        "        return sorted_list[1]\n",
        "    else:\n",
        "        return \"List doesn't have a second largest number.\"\n",
        "\n",
        "# Example usage\n",
        "my_list = [12, 45, 78, 23, 56, 89, 34]\n",
        "second_largest_number = find_second_largest_number(my_list)\n",
        "\n",
        "print(f\"The second largest number in the list {my_list} is: {second_largest_number}\")\n"
      ],
      "metadata": {
        "colab": {
          "base_uri": "https://localhost:8080/"
        },
        "id": "un4W2v4Z3rT-",
        "outputId": "eb4586f1-192f-45a0-9cb2-5cc95546839f"
      },
      "execution_count": 4,
      "outputs": [
        {
          "output_type": "stream",
          "name": "stdout",
          "text": [
            "The second largest number in the list [12, 45, 78, 23, 56, 89, 34] is: 78\n"
          ]
        }
      ]
    },
    {
      "cell_type": "markdown",
      "source": [
        "### 6. Write a Python program to find N largest elements from a list?"
      ],
      "metadata": {
        "id": "k3MLDr3T3y3_"
      }
    },
    {
      "cell_type": "code",
      "source": [
        "import heapq\n",
        "\n",
        "def find_n_largest_elements(input_list, n):\n",
        "    # Use heapq to get the N largest elements\n",
        "    largest_elements = heapq.nlargest(n, input_list)\n",
        "    return largest_elements\n",
        "\n",
        "# Example usage\n",
        "my_list = [12, 45, 78, 23, 56, 89, 34]\n",
        "n = 3\n",
        "n_largest_elements = find_n_largest_elements(my_list, n)\n",
        "\n",
        "print(f\"The {n} largest elements in the list {my_list} are: {n_largest_elements}\")\n"
      ],
      "metadata": {
        "colab": {
          "base_uri": "https://localhost:8080/"
        },
        "id": "6P-VksDa32F7",
        "outputId": "a06193c1-b1cd-4d27-9e20-bf49d578c147"
      },
      "execution_count": 5,
      "outputs": [
        {
          "output_type": "stream",
          "name": "stdout",
          "text": [
            "The 3 largest elements in the list [12, 45, 78, 23, 56, 89, 34] are: [89, 78, 56]\n"
          ]
        }
      ]
    },
    {
      "cell_type": "markdown",
      "source": [
        "### 7. Write a Python program to print even numbers in a list?"
      ],
      "metadata": {
        "id": "RJJj7mtB4BTT"
      }
    },
    {
      "cell_type": "code",
      "source": [
        "def print_even_numbers(input_list):\n",
        "    even_numbers = [num for num in input_list if num % 2 == 0]\n",
        "    print(\"Even numbers in the list:\", even_numbers)\n",
        "\n",
        "# Example usage\n",
        "my_list = [1, 2, 3, 4, 5, 6, 7, 8, 9, 10]\n",
        "print_even_numbers(my_list)\n"
      ],
      "metadata": {
        "colab": {
          "base_uri": "https://localhost:8080/"
        },
        "id": "48OfZG-j4E_7",
        "outputId": "b64908ab-a3ba-4b6a-bbc3-5082dc3e27b3"
      },
      "execution_count": 6,
      "outputs": [
        {
          "output_type": "stream",
          "name": "stdout",
          "text": [
            "Even numbers in the list: [2, 4, 6, 8, 10]\n"
          ]
        }
      ]
    },
    {
      "cell_type": "markdown",
      "source": [
        "### 8. Write a Python program to print odd numbers in a List?"
      ],
      "metadata": {
        "id": "6Aibf_qI4QPr"
      }
    },
    {
      "cell_type": "code",
      "source": [
        "def print_odd_numbers(input_list):\n",
        "    odd_numbers = [num for num in input_list if num % 2 != 0]\n",
        "    print(\"Odd numbers in the list:\", odd_numbers)\n",
        "\n",
        "# Example usage\n",
        "my_list = [1, 2, 3, 4, 5, 6, 7, 8, 9, 10]\n",
        "print_odd_numbers(my_list)\n"
      ],
      "metadata": {
        "colab": {
          "base_uri": "https://localhost:8080/"
        },
        "id": "Cu-psARQ4Tf4",
        "outputId": "e3d1dd33-421b-409f-b47f-bfa547aba467"
      },
      "execution_count": 7,
      "outputs": [
        {
          "output_type": "stream",
          "name": "stdout",
          "text": [
            "Odd numbers in the list: [1, 3, 5, 7, 9]\n"
          ]
        }
      ]
    },
    {
      "cell_type": "markdown",
      "source": [
        "### 9. Write a Python program to Remove empty List from List?"
      ],
      "metadata": {
        "id": "wRM8HIqN4YN8"
      }
    },
    {
      "cell_type": "code",
      "source": [
        "def remove_empty_lists(input_list):\n",
        "    non_empty_lists = [sublist for sublist in input_list if sublist]\n",
        "    return non_empty_lists\n",
        "\n",
        "# Example usage\n",
        "my_list = [1, [], 3, [], 5, [], 7, [], 9, []]\n",
        "filtered_list = remove_empty_lists(my_list)\n",
        "\n",
        "print(\"List after removing empty lists:\", filtered_list)\n"
      ],
      "metadata": {
        "colab": {
          "base_uri": "https://localhost:8080/"
        },
        "id": "crhHvDyU4bww",
        "outputId": "52789320-581a-483f-b72c-c6494fd9ab59"
      },
      "execution_count": 8,
      "outputs": [
        {
          "output_type": "stream",
          "name": "stdout",
          "text": [
            "List after removing empty lists: [1, 3, 5, 7, 9]\n"
          ]
        }
      ]
    },
    {
      "cell_type": "markdown",
      "source": [
        "### 10. Write a Python program to Cloning or Copying a list?"
      ],
      "metadata": {
        "id": "qaOaa_Au4iij"
      }
    },
    {
      "cell_type": "code",
      "source": [
        "def clone_list(original_list):\n",
        "    cloned_list = original_list[:]\n",
        "    return cloned_list\n",
        "\n",
        "# Example usage\n",
        "original_list = [1, 2, 3, 4, 5]\n",
        "cloned_list = clone_list(original_list)\n",
        "\n",
        "print(\"Original List:\", original_list)\n",
        "print(\"Cloned List:\", cloned_list)\n"
      ],
      "metadata": {
        "colab": {
          "base_uri": "https://localhost:8080/"
        },
        "id": "x9cFejrx4nOu",
        "outputId": "003c9828-2c97-4fc0-a7a0-b31506723d2e"
      },
      "execution_count": 10,
      "outputs": [
        {
          "output_type": "stream",
          "name": "stdout",
          "text": [
            "Original List: [1, 2, 3, 4, 5]\n",
            "Cloned List: [1, 2, 3, 4, 5]\n"
          ]
        }
      ]
    },
    {
      "cell_type": "markdown",
      "source": [
        "### 11. Write a Python program to Count occurrences of an element in a list?"
      ],
      "metadata": {
        "id": "Q26KBSy45wyP"
      }
    },
    {
      "cell_type": "code",
      "source": [
        "def count_occurrences(input_list, element):\n",
        "    return input_list.count(element)\n",
        "\n",
        "# Example usage\n",
        "my_list = [1, 2, 3, 4, 2, 5, 2, 6, 2, 7]\n",
        "element_to_count = 2\n",
        "\n",
        "occurrences = count_occurrences(my_list, element_to_count)\n",
        "\n",
        "print(f\"The element {element_to_count} occurs {occurrences} times in the list.\")\n"
      ],
      "metadata": {
        "colab": {
          "base_uri": "https://localhost:8080/"
        },
        "id": "N6imkEA35z7P",
        "outputId": "08a6d275-0cbd-4eec-877e-8c3e6ca5e2a9"
      },
      "execution_count": 11,
      "outputs": [
        {
          "output_type": "stream",
          "name": "stdout",
          "text": [
            "The element 2 occurs 4 times in the list.\n"
          ]
        }
      ]
    }
  ]
}