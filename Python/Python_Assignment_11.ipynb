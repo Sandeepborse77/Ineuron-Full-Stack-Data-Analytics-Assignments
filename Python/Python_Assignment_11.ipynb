{
  "nbformat": 4,
  "nbformat_minor": 0,
  "metadata": {
    "colab": {
      "provenance": []
    },
    "kernelspec": {
      "name": "python3",
      "display_name": "Python 3"
    },
    "language_info": {
      "name": "python"
    }
  },
  "cells": [
    {
      "cell_type": "markdown",
      "source": [
        "### 1. Write a Python program to find words which are greater than given length k?"
      ],
      "metadata": {
        "id": "UG3tMT4q62Hm"
      }
    },
    {
      "cell_type": "code",
      "execution_count": 1,
      "metadata": {
        "colab": {
          "base_uri": "https://localhost:8080/"
        },
        "id": "D3VRaTVr6vle",
        "outputId": "c858ce9a-1e40-4bdb-d32e-2cc087794801"
      },
      "outputs": [
        {
          "output_type": "stream",
          "name": "stdout",
          "text": [
            "Words longer than 5 characters: ['banana', 'orange']\n"
          ]
        }
      ],
      "source": [
        "def find_words_greater_than_length(word_list, k):\n",
        "    return [word for word in word_list if len(word) > k]\n",
        "\n",
        "# Example usage\n",
        "word_list = [\"apple\", \"banana\", \"grape\", \"kiwi\", \"orange\", \"pear\"]\n",
        "k = 5\n",
        "\n",
        "long_words = find_words_greater_than_length(word_list, k)\n",
        "\n",
        "print(f\"Words longer than {k} characters: {long_words}\")\n"
      ]
    },
    {
      "cell_type": "markdown",
      "source": [
        "### 2. Write a Python program for removing i-th character from a string?"
      ],
      "metadata": {
        "id": "gFdCDk838SuL"
      }
    },
    {
      "cell_type": "code",
      "source": [
        "def remove_ith_character(input_string, i):\n",
        "    if 0 <= i < len(input_string):\n",
        "        return input_string[:i] + input_string[i+1:]\n",
        "    else:\n",
        "        return \"Invalid index\"\n",
        "\n",
        "# Example usage\n",
        "original_string = \"example\"\n",
        "index_to_remove = 3\n",
        "\n",
        "result_string = remove_ith_character(original_string, index_to_remove)\n",
        "\n",
        "print(f\"The string after removing the {index_to_remove}-th character: {result_string}\")\n"
      ],
      "metadata": {
        "colab": {
          "base_uri": "https://localhost:8080/"
        },
        "id": "UmJvETW187qW",
        "outputId": "d8cc89d8-308c-4511-b5d1-a123803fb663"
      },
      "execution_count": 2,
      "outputs": [
        {
          "output_type": "stream",
          "name": "stdout",
          "text": [
            "The string after removing the 3-th character: exaple\n"
          ]
        }
      ]
    },
    {
      "cell_type": "markdown",
      "source": [
        "### 3. Write a Python program to split and join a string?"
      ],
      "metadata": {
        "id": "k4BcIWP09gvI"
      }
    },
    {
      "cell_type": "code",
      "source": [
        "def split_and_join(input_string, delimiter=\" \"):\n",
        "    # Split the string into a list of substrings\n",
        "    string_list = input_string.split(delimiter)\n",
        "\n",
        "    # Join the list of substrings into a single string\n",
        "    joined_string = delimiter.join(string_list)\n",
        "\n",
        "    return string_list, joined_string\n",
        "\n",
        "# Example usage\n",
        "original_string = \"This is a sample string\"\n",
        "delimiter_used = \" \"\n",
        "\n",
        "split_result, joined_result = split_and_join(original_string, delimiter_used)\n",
        "\n",
        "print(\"Original String:\", original_string)\n",
        "print(\"After Splitting:\", split_result)\n",
        "print(\"After Joining:\", joined_result)\n",
        "\n"
      ],
      "metadata": {
        "colab": {
          "base_uri": "https://localhost:8080/"
        },
        "id": "yRwGwU8T9lbC",
        "outputId": "3c0aaaaa-6208-4937-f01c-4ac1f10aeb90"
      },
      "execution_count": 3,
      "outputs": [
        {
          "output_type": "stream",
          "name": "stdout",
          "text": [
            "Original String: This is a sample string\n",
            "After Splitting: ['This', 'is', 'a', 'sample', 'string']\n",
            "After Joining: This is a sample string\n"
          ]
        }
      ]
    },
    {
      "cell_type": "markdown",
      "source": [
        "### 4. Write a Python to check if a given string is binary string or not?"
      ],
      "metadata": {
        "id": "LDsDLus1-Gg3"
      }
    },
    {
      "cell_type": "code",
      "source": [
        "def is_binary_string(input_string):\n",
        "    # Check if all characters in the string are '0' or '1'\n",
        "    return all(char in ('0', '1') for char in input_string)\n",
        "\n",
        "# Example usage\n",
        "binary_string = \"101010\"\n",
        "non_binary_string = \"10102\"\n",
        "\n",
        "if is_binary_string(binary_string):\n",
        "    print(f\"{binary_string} is a binary string.\")\n",
        "else:\n",
        "    print(f\"{binary_string} is not a binary string.\")\n",
        "\n",
        "if is_binary_string(non_binary_string):\n",
        "    print(f\"{non_binary_string} is a binary string.\")\n",
        "else:\n",
        "    print(f\"{non_binary_string} is not a binary string.\")\n"
      ],
      "metadata": {
        "colab": {
          "base_uri": "https://localhost:8080/"
        },
        "id": "NEgsdX6x-U6q",
        "outputId": "5396788c-e5d4-4776-d043-1504f2e426de"
      },
      "execution_count": 4,
      "outputs": [
        {
          "output_type": "stream",
          "name": "stdout",
          "text": [
            "101010 is a binary string.\n",
            "10102 is not a binary string.\n"
          ]
        }
      ]
    },
    {
      "cell_type": "markdown",
      "source": [
        "### 5. Write a Python program to find uncommon words from two Strings?"
      ],
      "metadata": {
        "id": "s4MKPrN9-cb3"
      }
    },
    {
      "cell_type": "code",
      "source": [
        "def find_uncommon_words(string1, string2):\n",
        "    # Split the strings into lists of words\n",
        "    words1 = set(string1.split())\n",
        "    words2 = set(string2.split())\n",
        "\n",
        "    # Find uncommon words using symmetric difference\n",
        "    uncommon_words = words1.symmetric_difference(words2)\n",
        "\n",
        "    return uncommon_words\n",
        "\n",
        "# Example usage\n",
        "string1 = \"This is the first string\"\n",
        "string2 = \"This is the second string with some different words\"\n",
        "\n",
        "uncommon_words_result = find_uncommon_words(string1, string2)\n",
        "\n",
        "print(f\"Uncommon words between the two strings:\")\n",
        "print(uncommon_words_result)\n"
      ],
      "metadata": {
        "colab": {
          "base_uri": "https://localhost:8080/"
        },
        "id": "Lgy187oi-0OL",
        "outputId": "ecae3052-b223-40f9-c09c-2e0a7ce04581"
      },
      "execution_count": 5,
      "outputs": [
        {
          "output_type": "stream",
          "name": "stdout",
          "text": [
            "Uncommon words between the two strings:\n",
            "{'second', 'words', 'first', 'with', 'some', 'different'}\n"
          ]
        }
      ]
    },
    {
      "cell_type": "markdown",
      "source": [
        "### 6. Write a Python to find all duplicate characters in string?"
      ],
      "metadata": {
        "id": "zxAesGOY_ASr"
      }
    },
    {
      "cell_type": "code",
      "source": [
        "def find_duplicate_characters(input_string):\n",
        "    # Create an empty set to store unique characters\n",
        "    unique_characters = set()\n",
        "\n",
        "    # Create an empty set to store duplicate characters\n",
        "    duplicate_characters = set()\n",
        "\n",
        "    # Iterate through each character in the string\n",
        "    for char in input_string:\n",
        "        # Check if the character is already in the unique set\n",
        "        # If it is, add it to the duplicate set\n",
        "        if char in unique_characters:\n",
        "            duplicate_characters.add(char)\n",
        "        else:\n",
        "            # Otherwise, add it to the unique set\n",
        "            unique_characters.add(char)\n",
        "\n",
        "    return duplicate_characters\n",
        "\n",
        "# Example usage\n",
        "input_str = \"hello world\"\n",
        "\n",
        "duplicate_chars_result = find_duplicate_characters(input_str)\n",
        "\n",
        "print(f\"Duplicate characters in the string '{input_str}':\")\n",
        "print(duplicate_chars_result)\n"
      ],
      "metadata": {
        "colab": {
          "base_uri": "https://localhost:8080/"
        },
        "id": "CgsKuE99_DTN",
        "outputId": "b4a38317-49e0-4104-c7e2-59f4cdd0a44c"
      },
      "execution_count": 6,
      "outputs": [
        {
          "output_type": "stream",
          "name": "stdout",
          "text": [
            "Duplicate characters in the string 'hello world':\n",
            "{'o', 'l'}\n"
          ]
        }
      ]
    },
    {
      "cell_type": "markdown",
      "source": [
        "### 7. Write a Python Program to check if a string contains any special character?"
      ],
      "metadata": {
        "id": "CG-q357C_Dtg"
      }
    },
    {
      "cell_type": "code",
      "source": [
        "import re\n",
        "\n",
        "def contains_special_character(input_string):\n",
        "    # Define a regular expression to match special characters\n",
        "    special_char_pattern = re.compile(r'[!@#$%^&*(),.?\":{}|<>]')\n",
        "\n",
        "    # Use re.search() to find a match in the string\n",
        "    match = special_char_pattern.search(input_string)\n",
        "\n",
        "    # If a match is found, the string contains a special character\n",
        "    return match is not None\n",
        "\n",
        "# Example usage\n",
        "test_string = \"Hello123!\"\n",
        "if contains_special_character(test_string):\n",
        "    print(f\"The string '{test_string}' contains special characters.\")\n",
        "else:\n",
        "    print(f\"The string '{test_string}' does not contain special characters.\")\n"
      ],
      "metadata": {
        "colab": {
          "base_uri": "https://localhost:8080/"
        },
        "id": "YFVMSM_2_GBz",
        "outputId": "7940f528-64f0-4ee6-d959-8e6a9a898ff1"
      },
      "execution_count": 7,
      "outputs": [
        {
          "output_type": "stream",
          "name": "stdout",
          "text": [
            "The string 'Hello123!' contains special characters.\n"
          ]
        }
      ]
    }
  ]
}