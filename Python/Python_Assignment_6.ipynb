{
  "nbformat": 4,
  "nbformat_minor": 0,
  "metadata": {
    "colab": {
      "provenance": []
    },
    "kernelspec": {
      "name": "python3",
      "display_name": "Python 3"
    },
    "language_info": {
      "name": "python"
    }
  },
  "cells": [
    {
      "cell_type": "markdown",
      "source": [
        "1. Write a Python Program to Display Fibonacci Sequence Using Recursion?"
      ],
      "metadata": {
        "id": "3U7SYzyqlTXa"
      }
    },
    {
      "cell_type": "code",
      "execution_count": 1,
      "metadata": {
        "colab": {
          "base_uri": "https://localhost:8080/"
        },
        "id": "JDmfymBako8d",
        "outputId": "e9e7e071-f4d9-4260-9b3a-81c46795fa7f"
      },
      "outputs": [
        {
          "output_type": "stream",
          "name": "stdout",
          "text": [
            "Enter the number of terms for the Fibonacci sequence: 11\n",
            "Fibonacci Sequence:\n",
            "0 1 1 2 3 5 8 13 21 34 55 "
          ]
        }
      ],
      "source": [
        "def fibonacci_recursive(n):\n",
        "    if n <= 1:\n",
        "        return n\n",
        "    else:\n",
        "        return fibonacci_recursive(n-1) + fibonacci_recursive(n-2)\n",
        "\n",
        "def display_fibonacci_sequence(num_terms):\n",
        "    if num_terms <= 0:\n",
        "        print(\"Please enter a positive integer.\")\n",
        "    else:\n",
        "        print(\"Fibonacci Sequence:\")\n",
        "        for i in range(num_terms):\n",
        "            print(fibonacci_recursive(i), end=\" \")\n",
        "\n",
        "# Input from the user\n",
        "num_terms = int(input(\"Enter the number of terms for the Fibonacci sequence: \"))\n",
        "\n",
        "# Display the Fibonacci sequence using recursion\n",
        "display_fibonacci_sequence(num_terms)\n"
      ]
    },
    {
      "cell_type": "markdown",
      "source": [
        "2. Write a Python Program to Find Factorial of Number Using Recursion?"
      ],
      "metadata": {
        "id": "EpGd9r8llr3i"
      }
    },
    {
      "cell_type": "code",
      "source": [
        "def factorial_recursive(n):\n",
        "    if n == 0 or n == 1:\n",
        "        return 1\n",
        "    else:\n",
        "        return n * factorial_recursive(n-1)\n",
        "\n",
        "# Input from the user\n",
        "num = int(input(\"Enter a number to find its factorial: \"))\n",
        "\n",
        "# Check if the number is non-negative\n",
        "if num < 0:\n",
        "    print(\"Factorial is not defined for negative numbers.\")\n",
        "else:\n",
        "    # Calculate and display the factorial using recursion\n",
        "    result = factorial_recursive(num)\n",
        "    print(f\"The factorial of {num} is: {result}\")\n"
      ],
      "metadata": {
        "colab": {
          "base_uri": "https://localhost:8080/"
        },
        "id": "8zgoRK52lvai",
        "outputId": "3d3aab35-4f10-48ed-e7f5-6fa4d6c0227a"
      },
      "execution_count": 2,
      "outputs": [
        {
          "output_type": "stream",
          "name": "stdout",
          "text": [
            "Enter a number to find its factorial: 10\n",
            "The factorial of 10 is: 3628800\n"
          ]
        }
      ]
    },
    {
      "cell_type": "markdown",
      "source": [
        "3. Write a Python Program to calculate your Body Mass Index?"
      ],
      "metadata": {
        "id": "V1j0hiK2l3am"
      }
    },
    {
      "cell_type": "code",
      "source": [
        "\n",
        "weight = int(input());\n",
        "height = float(input());\n",
        "x = weight/float(height*height);\n",
        "if x < 18.5:\n",
        "    print('Underweight')\n",
        "if x>=18.5 and x<25:\n",
        "    print(\"Normal\")\n",
        "if x >= 25 and x < 30:\n",
        "   print('Overweight')\n",
        "if x >= 30:\n",
        "   print('Obesity')"
      ],
      "metadata": {
        "colab": {
          "base_uri": "https://localhost:8080/"
        },
        "id": "KbDiOW37mZGZ",
        "outputId": "f62d0bff-74e4-413c-a2f4-68418f8d57a0"
      },
      "execution_count": 5,
      "outputs": [
        {
          "output_type": "stream",
          "name": "stdout",
          "text": [
            "72\n",
            "168\n",
            "Underweight\n"
          ]
        }
      ]
    },
    {
      "cell_type": "markdown",
      "source": [
        "4. Write a Python Program to calculate the natural logarithm of any number?"
      ],
      "metadata": {
        "id": "mr7uCVcDm4KF"
      }
    },
    {
      "cell_type": "code",
      "source": [
        "import math\n",
        "\n",
        "# Input from the user\n",
        "number = float(input(\"Enter a number to calculate its natural logarithm: \"))\n",
        "\n",
        "# Check if the input value is valid\n",
        "if number <= 0:\n",
        "    print(\"Please enter a positive number.\")\n",
        "else:\n",
        "    # Calculate and display the natural logarithm\n",
        "    log_result = math.log(number)\n",
        "    print(f\"The natural logarithm of {number} is: {log_result:.4f}\")\n"
      ],
      "metadata": {
        "colab": {
          "base_uri": "https://localhost:8080/"
        },
        "id": "q2vvVt2vm-2q",
        "outputId": "efcf014c-bc60-4435-f976-6becec106e90"
      },
      "execution_count": 6,
      "outputs": [
        {
          "output_type": "stream",
          "name": "stdout",
          "text": [
            "Enter a number to calculate its natural logarithm: 2\n",
            "The natural logarithm of 2.0 is: 0.6931\n"
          ]
        }
      ]
    },
    {
      "cell_type": "markdown",
      "source": [
        "5. Write a Python Program for cube sum of first n natural numbers?"
      ],
      "metadata": {
        "id": "gECl_urjnOXK"
      }
    },
    {
      "cell_type": "code",
      "source": [
        "def cube_sum_of_natural_numbers(n):\n",
        "    cube_sum = sum(i ** 3 for i in range(1, n+1))\n",
        "    return cube_sum\n",
        "\n",
        "# Input from the user\n",
        "num_terms = int(input(\"Enter the number of terms (n) for cube sum: \"))\n",
        "\n",
        "# Check if the input is a positive integer\n",
        "if num_terms <= 0:\n",
        "    print(\"Please enter a positive integer.\")\n",
        "else:\n",
        "    # Calculate and display the cube sum\n",
        "    result = cube_sum_of_natural_numbers(num_terms)\n",
        "    print(f\"The cube sum of the first {num_terms} natural numbers is: {result}\")\n"
      ],
      "metadata": {
        "colab": {
          "base_uri": "https://localhost:8080/"
        },
        "id": "a33Y-t3rnUOz",
        "outputId": "802c55c3-ad93-483f-9461-10d5a0ef44fa"
      },
      "execution_count": 7,
      "outputs": [
        {
          "output_type": "stream",
          "name": "stdout",
          "text": [
            "Enter the number of terms (n) for cube sum: 7\n",
            "The cube sum of the first 7 natural numbers is: 784\n"
          ]
        }
      ]
    }
  ]
}