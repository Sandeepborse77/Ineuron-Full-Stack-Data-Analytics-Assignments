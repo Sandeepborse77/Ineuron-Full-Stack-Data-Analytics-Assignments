{
  "nbformat": 4,
  "nbformat_minor": 0,
  "metadata": {
    "colab": {
      "provenance": []
    },
    "kernelspec": {
      "name": "python3",
      "display_name": "Python 3"
    },
    "language_info": {
      "name": "python"
    }
  },
  "cells": [
    {
      "cell_type": "markdown",
      "source": [
        "### 1. Define a class with a generator which can iterate the numbers, which are divisible by 7, between a given range 0 and n."
      ],
      "metadata": {
        "id": "oas86Cm6Jjzr"
      }
    },
    {
      "cell_type": "code",
      "execution_count": 1,
      "metadata": {
        "colab": {
          "base_uri": "https://localhost:8080/"
        },
        "id": "dW-eucmeJFPh",
        "outputId": "7a24d4be-b48e-48f5-834a-a240511f9828"
      },
      "outputs": [
        {
          "output_type": "stream",
          "name": "stdout",
          "text": [
            "Enter the value of n: 24\n",
            "Numbers divisible by 7 between 0 and 24:\n",
            "0\n",
            "7\n",
            "14\n",
            "21\n"
          ]
        }
      ],
      "source": [
        "class DivisibleBySevenGenerator:\n",
        "    def __init__(self, n):\n",
        "        self.n = n\n",
        "\n",
        "    def generate_divisible_by_seven(self):\n",
        "        for i in range(0, self.n + 1):\n",
        "            if i % 7 == 0:\n",
        "                yield i\n",
        "\n",
        "# Example usage:\n",
        "n_value = int(input(\"Enter the value of n: \"))\n",
        "\n",
        "divisible_by_seven_obj = DivisibleBySevenGenerator(n_value)\n",
        "generator = divisible_by_seven_obj.generate_divisible_by_seven()\n",
        "\n",
        "print(f\"Numbers divisible by 7 between 0 and {n_value}:\")\n",
        "for number in generator:\n",
        "    print(number)\n"
      ]
    },
    {
      "cell_type": "markdown",
      "source": [
        "### 2. Write a program to compute the frequency of the words from the input. The output should output after sorting the key alphanumerically."
      ],
      "metadata": {
        "id": "lvDVJ0lPJwKm"
      }
    },
    {
      "cell_type": "code",
      "source": [
        "def word_frequency(input_text):\n",
        "    # Split the input text into a list of words\n",
        "    words = input_text.split()\n",
        "\n",
        "    # Count the frequency of each word using a dictionary\n",
        "    frequency_dict = {}\n",
        "    for word in words:\n",
        "        frequency_dict[word] = frequency_dict.get(word, 0) + 1\n",
        "\n",
        "    # Sort the dictionary by keys alphanumerically\n",
        "    sorted_frequency = dict(sorted(frequency_dict.items()))\n",
        "\n",
        "    return sorted_frequency\n",
        "\n",
        "# Example usage:\n",
        "input_text = input(\"Enter a sentence: \")\n",
        "\n",
        "result_frequency = word_frequency(input_text)\n",
        "\n",
        "print(\"Word Frequencies (sorted alphanumerically):\")\n",
        "for word, frequency in result_frequency.items():\n",
        "    print(f\"{word}: {frequency}\")\n"
      ],
      "metadata": {
        "colab": {
          "base_uri": "https://localhost:8080/"
        },
        "id": "-JrBOvOHJ7y2",
        "outputId": "796c3efa-dcf0-4128-b4dc-3a12da5bb612"
      },
      "execution_count": 2,
      "outputs": [
        {
          "output_type": "stream",
          "name": "stdout",
          "text": [
            "Enter a sentence: Hello guys, Sandy here. How all  of you are?\n",
            "Word Frequencies (sorted alphanumerically):\n",
            "Hello: 1\n",
            "How: 1\n",
            "Sandy: 1\n",
            "all: 1\n",
            "are?: 1\n",
            "guys,: 1\n",
            "here.: 1\n",
            "of: 1\n",
            "you: 1\n"
          ]
        }
      ]
    },
    {
      "cell_type": "markdown",
      "source": [
        "### 3. Define a class Person and its two child classes: Male and Female. All classes have a method \"getGender\" which can print \"Male\" for Male class and \"Female\" for Female class."
      ],
      "metadata": {
        "id": "-4NWTIOEKC9E"
      }
    },
    {
      "cell_type": "code",
      "source": [
        "class Person:\n",
        "    def getGender(self):\n",
        "        return \"Unknown\"\n",
        "\n",
        "class Male(Person):\n",
        "    def getGender(self):\n",
        "        return \"Male\"\n",
        "\n",
        "class Female(Person):\n",
        "    def getGender(self):\n",
        "        return \"Female\"\n",
        "\n",
        "# Example usage:\n",
        "person = Person()\n",
        "male_person = Male()\n",
        "female_person = Female()\n",
        "\n",
        "print(\"Person's Gender:\", person.getGender())\n",
        "print(\"Male's Gender:\", male_person.getGender())\n",
        "print(\"Female's Gender:\", female_person.getGender())\n"
      ],
      "metadata": {
        "colab": {
          "base_uri": "https://localhost:8080/"
        },
        "id": "9Fpq02oYKZmn",
        "outputId": "ccf6d406-5dde-43a0-c7b7-9d872c7d1b2f"
      },
      "execution_count": 3,
      "outputs": [
        {
          "output_type": "stream",
          "name": "stdout",
          "text": [
            "Person's Gender: Unknown\n",
            "Male's Gender: Male\n",
            "Female's Gender: Female\n"
          ]
        }
      ]
    },
    {
      "cell_type": "markdown",
      "source": [
        "### 4. Please write a program to generate all sentences where subject is in [\"I\", \"You\"] and verb is in ['Play', \"Love\"] and the object is in [\"Hockey\",\"Football\"]."
      ],
      "metadata": {
        "id": "jKeSxJ2OKmk-"
      }
    },
    {
      "cell_type": "code",
      "source": [
        "subjects = [\"I\", \"You\"]\n",
        "verbs = [\"Play\", \"Love\"]\n",
        "objects = [\"Hockey\", \"Football\"]\n",
        "\n",
        "# Generate all possible sentences\n",
        "sentences = []\n",
        "for subject in subjects:\n",
        "    for verb in verbs:\n",
        "        for obj in objects:\n",
        "            sentence = f\"{subject} {verb} {obj}.\"\n",
        "            sentences.append(sentence)\n",
        "\n",
        "# Print the generated sentences\n",
        "for sentence in sentences:\n",
        "    print(sentence)\n"
      ],
      "metadata": {
        "colab": {
          "base_uri": "https://localhost:8080/"
        },
        "id": "K5JWKGVtKrfu",
        "outputId": "68f0889b-b68c-4bc7-e5a3-1b107e489c48"
      },
      "execution_count": 4,
      "outputs": [
        {
          "output_type": "stream",
          "name": "stdout",
          "text": [
            "I Play Hockey.\n",
            "I Play Football.\n",
            "I Love Hockey.\n",
            "I Love Football.\n",
            "You Play Hockey.\n",
            "You Play Football.\n",
            "You Love Hockey.\n",
            "You Love Football.\n"
          ]
        }
      ]
    },
    {
      "cell_type": "markdown",
      "source": [
        "### 5. Please write a program to compress and decompress the string \"hello world!hello world!hello world!hello world!\""
      ],
      "metadata": {
        "id": "Cq_gfvLqK23L"
      }
    },
    {
      "cell_type": "code",
      "source": [
        "import zlib\n",
        "\n",
        "def compress_string(input_string):\n",
        "    compressed_data = zlib.compress(input_string.encode('utf-8'))\n",
        "    return compressed_data\n",
        "\n",
        "def decompress_string(compressed_data):\n",
        "    decompressed_data = zlib.decompress(compressed_data).decode('utf-8')\n",
        "    return decompressed_data\n",
        "\n",
        "# Example usage:\n",
        "original_string = \"hello world!hello world!hello world!hello world!\"\n",
        "\n",
        "# Compress the string\n",
        "compressed_data = compress_string(original_string)\n",
        "print(\"Compressed Data:\", compressed_data)\n",
        "\n",
        "# Decompress the string\n",
        "decompressed_string = decompress_string(compressed_data)\n",
        "print(\"Decompressed String:\", decompressed_string)\n"
      ],
      "metadata": {
        "colab": {
          "base_uri": "https://localhost:8080/"
        },
        "id": "CD8nXV0EK5vD",
        "outputId": "a33cefcd-3d79-403c-eaa4-49929285da1e"
      },
      "execution_count": 5,
      "outputs": [
        {
          "output_type": "stream",
          "name": "stdout",
          "text": [
            "Compressed Data: b'x\\x9c\\xcbH\\xcd\\xc9\\xc9W(\\xcf/\\xcaIQ\\xcc \\x82\\r\\x00\\xbd[\\x11\\xf5'\n",
            "Decompressed String: hello world!hello world!hello world!hello world!\n"
          ]
        }
      ]
    },
    {
      "cell_type": "markdown",
      "source": [
        "### 6. Please write a binary search function which searches an item in a sorted list. The function should return the index of element to be searched in the list."
      ],
      "metadata": {
        "id": "iR_q3u9LLVbF"
      }
    },
    {
      "cell_type": "code",
      "source": [
        "def binary_search(sorted_list, target):\n",
        "    low, high = 0, len(sorted_list) - 1\n",
        "\n",
        "    while low <= high:\n",
        "        mid = (low + high) // 2\n",
        "        mid_value = sorted_list[mid]\n",
        "\n",
        "        if mid_value == target:\n",
        "            return mid  # Element found, return its index\n",
        "        elif mid_value < target:\n",
        "            low = mid + 1\n",
        "        else:\n",
        "            high = mid - 1\n",
        "\n",
        "    return -1  # Element not found\n",
        "\n",
        "# Example usage:\n",
        "sorted_list = [1, 2, 3, 4, 5, 6, 7, 8, 9, 10]\n",
        "target_element = 7\n",
        "\n",
        "result = binary_search(sorted_list, target_element)\n",
        "\n",
        "if result != -1:\n",
        "    print(f\"Element {target_element} found at index {result}.\")\n",
        "else:\n",
        "    print(f\"Element {target_element} not found in the list.\")\n"
      ],
      "metadata": {
        "colab": {
          "base_uri": "https://localhost:8080/"
        },
        "id": "4M53nRInLY7W",
        "outputId": "99cb50ba-8e18-4ede-9d7c-625b258d5eeb"
      },
      "execution_count": 6,
      "outputs": [
        {
          "output_type": "stream",
          "name": "stdout",
          "text": [
            "Element 7 found at index 6.\n"
          ]
        }
      ]
    }
  ]
}