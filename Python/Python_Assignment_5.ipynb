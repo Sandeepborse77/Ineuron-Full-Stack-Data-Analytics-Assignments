{
  "nbformat": 4,
  "nbformat_minor": 0,
  "metadata": {
    "colab": {
      "provenance": []
    },
    "kernelspec": {
      "name": "python3",
      "display_name": "Python 3"
    },
    "language_info": {
      "name": "python"
    }
  },
  "cells": [
    {
      "cell_type": "markdown",
      "source": [
        "1. Write a Python Program to Find LCM?"
      ],
      "metadata": {
        "id": "zXk_MnK3iQdH"
      }
    },
    {
      "cell_type": "code",
      "execution_count": 1,
      "metadata": {
        "colab": {
          "base_uri": "https://localhost:8080/"
        },
        "id": "HVv8dDQYiFwy",
        "outputId": "c8ed4ca0-7d71-4bf0-dbbf-97b8d8b4056b"
      },
      "outputs": [
        {
          "output_type": "stream",
          "name": "stdout",
          "text": [
            "Enter the first number: 14\n",
            "Enter the second number: 21\n",
            "The LCM of 14 and 21 is: 42\n"
          ]
        }
      ],
      "source": [
        "def find_gcd(x, y):\n",
        "    while y:\n",
        "        x, y = y, x % y\n",
        "    return x\n",
        "\n",
        "def find_lcm(x, y):\n",
        "    # LCM(x, y) = (|x * y|) / GCD(x, y)\n",
        "    lcm = abs(x * y) // find_gcd(x, y)\n",
        "    return lcm\n",
        "\n",
        "# Input from the user\n",
        "num1 = int(input(\"Enter the first number: \"))\n",
        "num2 = int(input(\"Enter the second number: \"))\n",
        "\n",
        "# Check if the input numbers are non-zero\n",
        "if num1 == 0 or num2 == 0:\n",
        "    print(\"LCM is not defined for zero.\")\n",
        "else:\n",
        "    # Find and display the LCM of the two numbers\n",
        "    lcm_result = find_lcm(num1, num2)\n",
        "    print(f\"The LCM of {num1} and {num2} is: {lcm_result}\")\n"
      ]
    },
    {
      "cell_type": "markdown",
      "source": [
        "2. Write a Python Program to Find HCF?"
      ],
      "metadata": {
        "id": "alWdyVyDi2v8"
      }
    },
    {
      "cell_type": "code",
      "source": [
        "def find_gcd(x, y):\n",
        "    while y:\n",
        "        x, y = y, x % y\n",
        "    return x\n",
        "\n",
        "# Input from the user\n",
        "num1 = int(input(\"Enter the first number: \"))\n",
        "num2 = int(input(\"Enter the second number: \"))\n",
        "\n",
        "# Find and display the GCD (HCF) of the two numbers\n",
        "gcd_result = find_gcd(num1, num2)\n",
        "print(f\"The GCD (HCF) of {num1} and {num2} is: {gcd_result}\")\n",
        "\n"
      ],
      "metadata": {
        "colab": {
          "base_uri": "https://localhost:8080/"
        },
        "id": "-TbuzSbji4BH",
        "outputId": "e4e0d020-d642-4a82-8aad-1d55c48995ef"
      },
      "execution_count": 2,
      "outputs": [
        {
          "output_type": "stream",
          "name": "stdout",
          "text": [
            "Enter the first number: 14\n",
            "Enter the second number: 21\n",
            "The GCD (HCF) of 14 and 21 is: 7\n"
          ]
        }
      ]
    },
    {
      "cell_type": "markdown",
      "source": [
        " 3. Write a Python Program to Convert Decimal to Binary, Octal and Hexadecimal?"
      ],
      "metadata": {
        "id": "jpN5fbwyi4d8"
      }
    },
    {
      "cell_type": "code",
      "source": [
        "def convert_decimal_to_binary_octal_hexadecimal(decimal_num):\n",
        "    binary_num = bin(decimal_num)\n",
        "    octal_num = oct(decimal_num)\n",
        "    hexadecimal_num = hex(decimal_num)\n",
        "\n",
        "    return binary_num, octal_num, hexadecimal_num\n",
        "\n",
        "# Input from the user\n",
        "decimal_number = int(input(\"Enter a decimal number: \"))\n",
        "\n",
        "# Check if the input number is non-negative\n",
        "if decimal_number < 0:\n",
        "    print(\"Please enter a non-negative decimal number.\")\n",
        "else:\n",
        "    # Convert and display the results\n",
        "    binary, octal, hexadecimal = convert_decimal_to_binary_octal_hexadecimal(decimal_number)\n",
        "    print(f\"Binary representation: {binary}\")\n",
        "    print(f\"Octal representation: {octal}\")\n",
        "    print(f\"Hexadecimal representation: {hexadecimal}\")\n"
      ],
      "metadata": {
        "colab": {
          "base_uri": "https://localhost:8080/"
        },
        "id": "W5BNFj4ui4tI",
        "outputId": "c1176a1a-7ee5-4ae3-b9b4-459ba4072a7e"
      },
      "execution_count": 3,
      "outputs": [
        {
          "output_type": "stream",
          "name": "stdout",
          "text": [
            "Enter a decimal number: 56\n",
            "Binary representation: 0b111000\n",
            "Octal representation: 0o70\n",
            "Hexadecimal representation: 0x38\n"
          ]
        }
      ]
    },
    {
      "cell_type": "markdown",
      "source": [
        " 4. Write a Python Program To Find ASCII value of a character?"
      ],
      "metadata": {
        "id": "czHDa4y0ja9Y"
      }
    },
    {
      "cell_type": "code",
      "source": [
        "# Input from the user\n",
        "character = input(\"Enter a character: \")\n",
        "\n",
        "# Check if the input is a single character\n",
        "if len(character) == 1:\n",
        "    # Find and display the ASCII value of the character\n",
        "    ascii_value = ord(character)\n",
        "    print(f\"The ASCII value of '{character}' is: {ascii_value}\")\n",
        "else:\n",
        "    print(\"Please enter a single character.\")\n"
      ],
      "metadata": {
        "colab": {
          "base_uri": "https://localhost:8080/"
        },
        "id": "O-2tGU5sjblq",
        "outputId": "9b7de343-7122-4fe0-a403-78a704c6edbd"
      },
      "execution_count": 4,
      "outputs": [
        {
          "output_type": "stream",
          "name": "stdout",
          "text": [
            "Enter a character: T\n",
            "The ASCII value of 'T' is: 84\n"
          ]
        }
      ]
    },
    {
      "cell_type": "markdown",
      "source": [
        "5. Write a Python Program to Make a Simple Calculator with 4 basic mathematical operations?"
      ],
      "metadata": {
        "id": "eMqCQbMKjwEM"
      }
    },
    {
      "cell_type": "code",
      "source": [
        "def add(x, y):\n",
        "    return x + y\n",
        "\n",
        "def subtract(x, y):\n",
        "    return x - y\n",
        "\n",
        "def multiply(x, y):\n",
        "    return x * y\n",
        "\n",
        "def divide(x, y):\n",
        "    if y != 0:\n",
        "        return x / y\n",
        "    else:\n",
        "        return \"Cannot divide by zero.\"\n",
        "\n",
        "# Input from the user\n",
        "num1 = float(input(\"Enter the first number: \"))\n",
        "operator = input(\"Enter the operator (+, -, *, /): \")\n",
        "num2 = float(input(\"Enter the second number: \"))\n",
        "\n",
        "# Perform the calculation based on the operator\n",
        "if operator == \"+\":\n",
        "    result = add(num1, num2)\n",
        "elif operator == \"-\":\n",
        "    result = subtract(num1, num2)\n",
        "elif operator == \"*\":\n",
        "    result = multiply(num1, num2)\n",
        "elif operator == \"/\":\n",
        "    result = divide(num1, num2)\n",
        "else:\n",
        "    result = \"Invalid operator entered.\"\n",
        "\n",
        "# Display the result\n",
        "print(f\"The result of {num1} {operator} {num2} is: {result}\")\n"
      ],
      "metadata": {
        "colab": {
          "base_uri": "https://localhost:8080/"
        },
        "id": "yJQc0n-Rj4ED",
        "outputId": "d9b6b05f-23e7-49ad-aa01-1b4e976aafce"
      },
      "execution_count": 5,
      "outputs": [
        {
          "output_type": "stream",
          "name": "stdout",
          "text": [
            "Enter the first number: 175\n",
            "Enter the operator (+, -, *, /): *\n",
            "Enter the second number: 6\n",
            "The result of 175.0 * 6.0 is: 1050.0\n"
          ]
        }
      ]
    }
  ]
}