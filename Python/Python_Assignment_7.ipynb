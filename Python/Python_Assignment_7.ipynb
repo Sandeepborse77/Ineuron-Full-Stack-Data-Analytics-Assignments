{
  "nbformat": 4,
  "nbformat_minor": 0,
  "metadata": {
    "colab": {
      "provenance": []
    },
    "kernelspec": {
      "name": "python3",
      "display_name": "Python 3"
    },
    "language_info": {
      "name": "python"
    }
  },
  "cells": [
    {
      "cell_type": "markdown",
      "source": [
        "1. Write a Python Program to find sum of array?"
      ],
      "metadata": {
        "id": "A91nEj79os-H"
      }
    },
    {
      "cell_type": "code",
      "execution_count": 1,
      "metadata": {
        "colab": {
          "base_uri": "https://localhost:8080/"
        },
        "id": "NVbNhEvQooFy",
        "outputId": "c4ddfdd3-2e36-4d0f-9744-c2384524e1df"
      },
      "outputs": [
        {
          "output_type": "stream",
          "name": "stdout",
          "text": [
            "Enter the elements of the array separated by spaces: 5 8 15 6 9\n",
            "The sum of the array is: 43\n"
          ]
        }
      ],
      "source": [
        "def find_sum_of_array(arr):\n",
        "    array_sum = sum(arr)\n",
        "    return array_sum\n",
        "\n",
        "# Input from the user\n",
        "array_elements = input(\"Enter the elements of the array separated by spaces: \").split()\n",
        "\n",
        "# Convert the input elements to integers\n",
        "array = [int(element) for element in array_elements]\n",
        "\n",
        "# Calculate and display the sum of the array\n",
        "result = find_sum_of_array(array)\n",
        "print(f\"The sum of the array is: {result}\")\n",
        "\n"
      ]
    },
    {
      "cell_type": "markdown",
      "source": [
        "2. Write a Python Program to find largest element in an array?"
      ],
      "metadata": {
        "id": "qyx2qK0FpkLF"
      }
    },
    {
      "cell_type": "code",
      "source": [
        "def find_largest_element(arr):\n",
        "    if not arr:\n",
        "        return \"Array is empty\"\n",
        "\n",
        "    largest_element = max(arr)\n",
        "    return largest_element\n",
        "\n",
        "# Input from the user\n",
        "array_elements = input(\"Enter the elements of the array separated by spaces: \").split()\n",
        "\n",
        "# Convert the input elements to integers\n",
        "array = [int(element) for element in array_elements]\n",
        "\n",
        "# Check if the array is empty\n",
        "if not array:\n",
        "    print(\"Array is empty.\")\n",
        "else:\n",
        "    # Find and display the largest element in the array\n",
        "    result = find_largest_element(array)\n",
        "    print(f\"The largest element in the array is: {result}\")\n"
      ],
      "metadata": {
        "colab": {
          "base_uri": "https://localhost:8080/"
        },
        "id": "xuUyuaL9pyuQ",
        "outputId": "0472aa42-52dc-4d70-8f84-f25590887abf"
      },
      "execution_count": 2,
      "outputs": [
        {
          "output_type": "stream",
          "name": "stdout",
          "text": [
            "Enter the elements of the array separated by spaces: 4 9 18 88 69 1656 326\n",
            "The largest element in the array is: 1656\n"
          ]
        }
      ]
    },
    {
      "cell_type": "markdown",
      "source": [
        "3. Write a Python Program for array rotation?"
      ],
      "metadata": {
        "id": "WgLSE8AUp91j"
      }
    },
    {
      "cell_type": "code",
      "source": [
        "def rotate_array(arr, k):\n",
        "    n = len(arr)\n",
        "    k = k % n  # Handle cases where k is greater than the length of the array\n",
        "\n",
        "    # Rotate the array using slicing\n",
        "    rotated_array = arr[k:] + arr[:k]\n",
        "    return rotated_array\n",
        "\n",
        "# Input from the user\n",
        "array_elements = input(\"Enter the elements of the array separated by spaces: \").split()\n",
        "\n",
        "# Convert the input elements to integers\n",
        "array = [int(element) for element in array_elements]\n",
        "\n",
        "# Input for rotation count\n",
        "rotation_count = int(input(\"Enter the number of positions to rotate the array: \"))\n",
        "\n",
        "# Check if the array is empty\n",
        "if not array:\n",
        "    print(\"Array is empty.\")\n",
        "else:\n",
        "    # Rotate and display the array\n",
        "    rotated_result = rotate_array(array, rotation_count)\n",
        "    print(f\"The array after rotating {rotation_count} positions is: {rotated_result}\")\n"
      ],
      "metadata": {
        "colab": {
          "base_uri": "https://localhost:8080/"
        },
        "id": "xK8vs32_qBV_",
        "outputId": "a8ccae4c-f0ad-467a-fbc3-53ad07f14994"
      },
      "execution_count": 3,
      "outputs": [
        {
          "output_type": "stream",
          "name": "stdout",
          "text": [
            "Enter the elements of the array separated by spaces: 9 8 7 5\n",
            "Enter the number of positions to rotate the array: 60\n",
            "The array after rotating 60 positions is: [9, 8, 7, 5]\n"
          ]
        }
      ]
    },
    {
      "cell_type": "markdown",
      "source": [
        "4. Write a Python Program to Split the array and add the first part to the end?"
      ],
      "metadata": {
        "id": "aJp2v_8eqOv_"
      }
    },
    {
      "cell_type": "code",
      "source": [
        "def split_and_add_to_end(arr, split_index):\n",
        "    if split_index < 0 or split_index >= len(arr):\n",
        "        return \"Invalid split index\"\n",
        "\n",
        "    # Split the array and add the first part to the end\n",
        "    split_array = arr[:split_index + 1]\n",
        "    result_array = arr[split_index + 1:] + split_array\n",
        "    return result_array\n",
        "\n",
        "# Input from the user\n",
        "array_elements = input(\"Enter the elements of the array separated by spaces: \").split()\n",
        "\n",
        "# Convert the input elements to integers\n",
        "array = [int(element) for element in array_elements]\n",
        "\n",
        "# Input for split index\n",
        "split_index = int(input(\"Enter the index to split the array: \"))\n",
        "\n",
        "# Check if the array is empty\n",
        "if not array:\n",
        "    print(\"Array is empty.\")\n",
        "else:\n",
        "    # Split and add to end, then display the result\n",
        "    result = split_and_add_to_end(array, split_index)\n",
        "    print(f\"The array after splitting at index {split_index} and adding to the end is: {result}\")\n"
      ],
      "metadata": {
        "colab": {
          "base_uri": "https://localhost:8080/"
        },
        "id": "h2LuNCBUqSz0",
        "outputId": "e334d47c-eaaa-4464-d313-7636b6a40466"
      },
      "execution_count": 4,
      "outputs": [
        {
          "output_type": "stream",
          "name": "stdout",
          "text": [
            "Enter the elements of the array separated by spaces: 15 95 9 14 5646 334 \n",
            "Enter the index to split the array: 2\n",
            "The array after splitting at index 2 and adding to the end is: [14, 5646, 334, 15, 95, 9]\n"
          ]
        }
      ]
    },
    {
      "cell_type": "markdown",
      "source": [
        "5. Write a Python Program to check if given array is Monotonic?"
      ],
      "metadata": {
        "id": "-81DDguFq15m"
      }
    },
    {
      "cell_type": "code",
      "source": [
        "def is_monotonic(arr):\n",
        "    increasing = decreasing = True\n",
        "\n",
        "    for i in range(1, len(arr)):\n",
        "        if arr[i] > arr[i - 1]:\n",
        "            decreasing = False\n",
        "        elif arr[i] < arr[i - 1]:\n",
        "            increasing = False\n",
        "\n",
        "    return increasing or decreasing\n",
        "\n",
        "# Input from the user\n",
        "array_elements = input(\"Enter the elements of the array separated by spaces: \").split()\n",
        "\n",
        "# Convert the input elements to integers\n",
        "array = [int(element) for element in array_elements]\n",
        "\n",
        "# Check if the array is empty\n",
        "if not array:\n",
        "    print(\"Array is empty.\")\n",
        "else:\n",
        "    # Check and display if the array is monotonic\n",
        "    if is_monotonic(array):\n",
        "        print(\"The array is monotonic.\")\n",
        "    else:\n",
        "        print(\"The array is not monotonic.\")\n"
      ],
      "metadata": {
        "colab": {
          "base_uri": "https://localhost:8080/"
        },
        "id": "44Ai-4EQq5W9",
        "outputId": "9c11eed9-d158-4995-9955-f99b7e4b18fe"
      },
      "execution_count": 5,
      "outputs": [
        {
          "output_type": "stream",
          "name": "stdout",
          "text": [
            "Enter the elements of the array separated by spaces:  1 1 2 3 4 5 9 \n",
            "The array is monotonic.\n"
          ]
        }
      ]
    }
  ]
}