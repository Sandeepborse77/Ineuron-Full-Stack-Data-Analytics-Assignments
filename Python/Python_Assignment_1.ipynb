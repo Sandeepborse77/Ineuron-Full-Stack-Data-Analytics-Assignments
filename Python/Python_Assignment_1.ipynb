{
  "nbformat": 4,
  "nbformat_minor": 0,
  "metadata": {
    "colab": {
      "provenance": []
    },
    "kernelspec": {
      "name": "python3",
      "display_name": "Python 3"
    },
    "language_info": {
      "name": "python"
    }
  },
  "cells": [
    {
      "cell_type": "markdown",
      "source": [
        "1. Write a Python program to print \"Hello Python\"?"
      ],
      "metadata": {
        "id": "oB7-iimwO32x"
      }
    },
    {
      "cell_type": "code",
      "execution_count": 1,
      "metadata": {
        "colab": {
          "base_uri": "https://localhost:8080/"
        },
        "id": "Jcc0yNp8O2eb",
        "outputId": "9ee90462-3c1d-4e36-ca0e-bb13016fc0f0"
      },
      "outputs": [
        {
          "output_type": "stream",
          "name": "stdout",
          "text": [
            "Hello Python\n"
          ]
        }
      ],
      "source": [
        "print(\"Hello Python\")\n",
        "\n"
      ]
    },
    {
      "cell_type": "markdown",
      "source": [
        "2. Write a Python program to do arithmetical operations addition and division.?"
      ],
      "metadata": {
        "id": "RndvEltnPGHI"
      }
    },
    {
      "cell_type": "code",
      "source": [
        "# Get user input for two numbers\n",
        "num1 = float(input(\"Enter the first number: \"))\n",
        "num2 = float(input(\"Enter the second number: \"))\n",
        "\n",
        "# Perform addition and division\n",
        "sum_result = num1 + num2\n",
        "division_result = num1 / num2 if num2 != 0 else \"Cannot divide by zero\"\n",
        "\n",
        "# Display the results\n",
        "print(f\"Sum of {num1} and {num2}: {sum_result}\")\n",
        "print(f\"Division of {num1} by {num2}: {division_result}\")\n"
      ],
      "metadata": {
        "colab": {
          "base_uri": "https://localhost:8080/"
        },
        "id": "XIS2NzkzPJat",
        "outputId": "d7586a6a-c742-420e-e7ba-8ec28725966f"
      },
      "execution_count": 2,
      "outputs": [
        {
          "output_type": "stream",
          "name": "stdout",
          "text": [
            "Enter the first number: 45\n",
            "Enter the second number: 55\n",
            "Sum of 45.0 and 55.0: 100.0\n",
            "Division of 45.0 by 55.0: 0.8181818181818182\n"
          ]
        }
      ]
    },
    {
      "cell_type": "markdown",
      "source": [
        "3. Write a Python program to find the area of a triangle?"
      ],
      "metadata": {
        "id": "JiJ6nMPfPTv7"
      }
    },
    {
      "cell_type": "code",
      "source": [
        "# Get user input for base and height\n",
        "base = float(input(\"Enter the length of the base of the triangle: \"))\n",
        "height = float(input(\"Enter the height of the triangle: \"))\n",
        "\n",
        "# Calculate the area of the triangle\n",
        "area = 0.5 * base * height\n",
        "\n",
        "# Display the result\n",
        "print(f\"The area of the triangle with base {base} and height {height} is: {area}\")\n"
      ],
      "metadata": {
        "colab": {
          "base_uri": "https://localhost:8080/"
        },
        "id": "bYb1uL6LPYsQ",
        "outputId": "efd2d977-281a-4d6f-eaf8-1796293e268a"
      },
      "execution_count": 3,
      "outputs": [
        {
          "output_type": "stream",
          "name": "stdout",
          "text": [
            "Enter the length of the base of the triangle: 36\n",
            "Enter the height of the triangle: 25\n",
            "The area of the triangle with base 36.0 and height 25.0 is: 450.0\n"
          ]
        }
      ]
    },
    {
      "cell_type": "markdown",
      "source": [
        "4. Write a Python program to swap two variables?"
      ],
      "metadata": {
        "id": "4HZFdxqxPkCh"
      }
    },
    {
      "cell_type": "code",
      "source": [
        "# Get user input for two variables\n",
        "a = input(\"Enter the value of variable 'a': \")\n",
        "b = input(\"Enter the value of variable 'b': \")\n",
        "\n",
        "# Display the values before swapping\n",
        "print(f\"Before swapping: a = {a}, b = {b}\")\n",
        "\n",
        "# Swap the variables using a temporary variable\n",
        "temp = a\n",
        "a = b\n",
        "b = temp\n",
        "\n",
        "# Display the values after swapping\n",
        "print(f\"After swapping: a = {a}, b = {b}\")\n"
      ],
      "metadata": {
        "colab": {
          "base_uri": "https://localhost:8080/"
        },
        "id": "sC5U1GpdPsiG",
        "outputId": "dbb26b7a-d3a5-46e5-fdb3-011cb1233b83"
      },
      "execution_count": 4,
      "outputs": [
        {
          "output_type": "stream",
          "name": "stdout",
          "text": [
            "Enter the value of variable 'a': 18\n",
            "Enter the value of variable 'b': 98\n",
            "Before swapping: a = 18, b = 98\n",
            "After swapping: a = 98, b = 18\n"
          ]
        }
      ]
    },
    {
      "cell_type": "markdown",
      "source": [
        "5. Write a Python program to generate a random number?"
      ],
      "metadata": {
        "id": "UazjhYq5P3PU"
      }
    },
    {
      "cell_type": "code",
      "source": [
        "import random\n",
        "\n",
        "# Get user input for the range of random numbers\n",
        "lower_limit = int(input(\"Enter the lower limit of the range: \"))\n",
        "upper_limit = int(input(\"Enter the upper limit of the range: \"))\n",
        "\n",
        "# Generate a random number within the specified range\n",
        "random_number = random.randint(lower_limit, upper_limit)\n",
        "\n",
        "# Display the random number\n",
        "print(f\"Random number between {lower_limit} and {upper_limit}: {random_number}\")\n"
      ],
      "metadata": {
        "colab": {
          "base_uri": "https://localhost:8080/"
        },
        "id": "UCgluHRCP9Ai",
        "outputId": "ed6aaff9-af08-4acf-988d-69339365bc1e"
      },
      "execution_count": 6,
      "outputs": [
        {
          "output_type": "stream",
          "name": "stdout",
          "text": [
            "Enter the lower limit of the range: 15\n",
            "Enter the upper limit of the range: 45\n",
            "Random number between 15 and 45: 19\n"
          ]
        }
      ]
    }
  ]
}