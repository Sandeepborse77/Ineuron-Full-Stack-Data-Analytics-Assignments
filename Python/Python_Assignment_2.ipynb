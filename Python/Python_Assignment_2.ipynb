{
  "nbformat": 4,
  "nbformat_minor": 0,
  "metadata": {
    "colab": {
      "provenance": []
    },
    "kernelspec": {
      "name": "python3",
      "display_name": "Python 3"
    },
    "language_info": {
      "name": "python"
    }
  },
  "cells": [
    {
      "cell_type": "markdown",
      "source": [
        "1. Write a Python program to convert kilometers to miles?\n"
      ],
      "metadata": {
        "id": "7hX3pbNYHysC"
      }
    },
    {
      "cell_type": "code",
      "execution_count": null,
      "metadata": {
        "colab": {
          "base_uri": "https://localhost:8080/"
        },
        "id": "skjMq3XeHxnv",
        "outputId": "824320b7-7689-4bb8-d358-639fd0d32016"
      },
      "outputs": [
        {
          "output_type": "stream",
          "name": "stdout",
          "text": [
            "Enter distance in kilometers: 52\n",
            "52.0 kilometers is equal to 32.311292 miles.\n"
          ]
        }
      ],
      "source": [
        "def km_to_miles(kilometers):\n",
        "    miles_conversion_factor = 0.621371\n",
        "    miles = kilometers * miles_conversion_factor\n",
        "    return miles\n",
        "\n",
        "# Get user input for kilometers\n",
        "kilometers = float(input(\"Enter distance in kilometers: \"))\n",
        "\n",
        "# Convert kilometers to miles\n",
        "miles = km_to_miles(kilometers)\n",
        "\n",
        "# Display the result\n",
        "print(f\"{kilometers} kilometers is equal to {miles} miles.\")\n"
      ]
    },
    {
      "cell_type": "markdown",
      "source": [
        "2.Write a Python program to convert Celsius to Fahrenheit?\n"
      ],
      "metadata": {
        "id": "0T6iJAR9IRlp"
      }
    },
    {
      "cell_type": "code",
      "source": [
        "def celsius_to_fahrenheit(celsius):\n",
        "    fahrenheit = (celsius * 9/5) + 32\n",
        "    return fahrenheit\n",
        "\n",
        "# Get user input for temperature in Celsius\n",
        "celsius = float(input(\"Enter temperature in Celsius: \"))\n",
        "\n",
        "# Convert Celsius to Fahrenheit\n",
        "fahrenheit = celsius_to_fahrenheit(celsius)\n",
        "\n",
        "# Display the result\n",
        "print(f\"{celsius} degrees Celsius is equal to {fahrenheit} degrees Fahrenheit.\")\n",
        "\n"
      ],
      "metadata": {
        "colab": {
          "base_uri": "https://localhost:8080/"
        },
        "id": "roTByTQlIYRn",
        "outputId": "15fdc77b-e41f-4642-9be1-a5a93e105a78"
      },
      "execution_count": null,
      "outputs": [
        {
          "output_type": "stream",
          "name": "stdout",
          "text": [
            "Enter temperature in Celsius: 26\n",
            "26.0 degrees Celsius is equal to 78.8 degrees Fahrenheit.\n"
          ]
        }
      ]
    },
    {
      "cell_type": "markdown",
      "source": [
        "3. Write a Python program to display calendar?"
      ],
      "metadata": {
        "id": "Q0-ck-tXIjgL"
      }
    },
    {
      "cell_type": "code",
      "source": [
        "import calendar\n",
        "\n",
        "# Get user input for year and month\n",
        "year = int(input(\"Enter year (e.g., 2023): \"))\n",
        "month = int(input(\"Enter month (1-12): \"))\n",
        "\n",
        "# Display the calendar\n",
        "cal = calendar.month(year, month)\n",
        "print(f\"\\nCalendar for {calendar.month_name[month]} {year}:\\n\")\n",
        "print(cal)\n"
      ],
      "metadata": {
        "colab": {
          "base_uri": "https://localhost:8080/"
        },
        "id": "M98lMQmnIpSN",
        "outputId": "f24bf1f2-7336-451d-b2e6-e59f0e4e5969"
      },
      "execution_count": null,
      "outputs": [
        {
          "output_type": "stream",
          "name": "stdout",
          "text": [
            "Enter year (e.g., 2023): 2023\n",
            "Enter month (1-12): 7\n",
            "\n",
            "Calendar for July 2023:\n",
            "\n",
            "     July 2023\n",
            "Mo Tu We Th Fr Sa Su\n",
            "                1  2\n",
            " 3  4  5  6  7  8  9\n",
            "10 11 12 13 14 15 16\n",
            "17 18 19 20 21 22 23\n",
            "24 25 26 27 28 29 30\n",
            "31\n",
            "\n"
          ]
        }
      ]
    },
    {
      "cell_type": "markdown",
      "source": [
        "4. Write a Python program to solve quadratic equation?"
      ],
      "metadata": {
        "id": "CNq-5n3IJTou"
      }
    },
    {
      "cell_type": "code",
      "source": [
        "import cmath\n",
        "\n",
        "def solve_quadratic(a, b, c):\n",
        "    # Calculate the discriminant\n",
        "    delta = cmath.sqrt(b**2 - 4*a*c)\n",
        "\n",
        "    # Calculate the roots\n",
        "    root1 = (-b + delta) / (2*a)\n",
        "    root2 = (-b - delta) / (2*a)\n",
        "\n",
        "    return root1, root2\n",
        "\n",
        "# Get user input for coefficients\n",
        "a = float(input(\"Enter coefficient a: \"))\n",
        "b = float(input(\"Enter coefficient b: \"))\n",
        "c = float(input(\"Enter coefficient c: \"))\n",
        "\n",
        "# Solve the quadratic equation\n",
        "roots = solve_quadratic(a, b, c)\n",
        "\n",
        "# Display the roots\n",
        "print(f\"\\nThe roots of the quadratic equation {a}x^2 + {b}x + {c} are:\")\n",
        "print(f\"Root 1: {roots[0]}\")\n",
        "print(f\"Root 2: {roots[1]}\")\n"
      ],
      "metadata": {
        "colab": {
          "base_uri": "https://localhost:8080/"
        },
        "id": "itxj3-l3JYtY",
        "outputId": "35dbbbab-3562-4cc4-9696-b80e301f79d8"
      },
      "execution_count": null,
      "outputs": [
        {
          "output_type": "stream",
          "name": "stdout",
          "text": [
            "Enter coefficient a: 1\n",
            "Enter coefficient b: 4\n",
            "Enter coefficient c: 4\n",
            "\n",
            "The roots of the quadratic equation 1.0x^2 + 4.0x + 4.0 are:\n",
            "Root 1: (-2+0j)\n",
            "Root 2: (-2+0j)\n"
          ]
        }
      ]
    },
    {
      "cell_type": "markdown",
      "source": [
        "5. Write a Python program to swap two variables without temp variable?"
      ],
      "metadata": {
        "id": "ZVocc7ErJx3e"
      }
    },
    {
      "cell_type": "code",
      "source": [
        "# Get user input for two variables\n",
        "a = input(\"Enter the value of variable 'a': \")\n",
        "b = input(\"Enter the value of variable 'b': \")\n",
        "\n",
        "# Display the values before swapping\n",
        "print(f\"Before swapping: a = {a}, b = {b}\")\n",
        "\n",
        "# Swap the variables without using a temporary variable\n",
        "a, b = b, a\n",
        "\n",
        "# Display the values after swapping\n",
        "print(f\"After swapping: a = {a}, b = {b}\")\n"
      ],
      "metadata": {
        "colab": {
          "base_uri": "https://localhost:8080/"
        },
        "id": "dIiv0TgDJ1dG",
        "outputId": "2f8ef60c-a929-4744-fc34-6c5c741d4f28"
      },
      "execution_count": null,
      "outputs": [
        {
          "output_type": "stream",
          "name": "stdout",
          "text": [
            "Enter the value of variable 'a': 7\n",
            "Enter the value of variable 'b': 9\n",
            "Before swapping: a = 7, b = 9\n",
            "After swapping: a = 9, b = 7\n"
          ]
        }
      ]
    }
  ]
}