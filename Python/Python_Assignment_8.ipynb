{
  "nbformat": 4,
  "nbformat_minor": 0,
  "metadata": {
    "colab": {
      "provenance": []
    },
    "kernelspec": {
      "name": "python3",
      "display_name": "Python 3"
    },
    "language_info": {
      "name": "python"
    }
  },
  "cells": [
    {
      "cell_type": "markdown",
      "source": [
        "1. Write a Python Program to Add Two Matrices?"
      ],
      "metadata": {
        "id": "BtHPc2FLsQVf"
      }
    },
    {
      "cell_type": "code",
      "execution_count": 2,
      "metadata": {
        "colab": {
          "base_uri": "https://localhost:8080/"
        },
        "id": "YT4u86IRsO5W",
        "outputId": "44280b5f-5595-46cb-d1ae-b6ec42db4e73"
      },
      "outputs": [
        {
          "output_type": "stream",
          "name": "stdout",
          "text": [
            "Enter the number of rows for the first matrix: 2 \n",
            "Enter the number of columns for the first matrix: 2\n",
            "Enter the elements of the first matrix:\n",
            "6\n",
            "6\n",
            "69\n",
            "2\n",
            "Enter the number of rows for the second matrix: 2\n",
            "Enter the number of columns for the second matrix: 2\n",
            "Enter the elements of the second matrix:\n",
            "9\n",
            "5\n",
            "65\n",
            "2\n",
            "The result of matrix addition is:\n",
            "[15, 11]\n",
            "[134, 4]\n"
          ]
        },
        {
          "output_type": "execute_result",
          "data": {
            "text/plain": [
              "41"
            ]
          },
          "metadata": {},
          "execution_count": 2
        }
      ],
      "source": [
        "def add_matrices(matrix1, matrix2):\n",
        "    # Check if the matrices have the same dimensions\n",
        "    if len(matrix1) != len(matrix2) or len(matrix1[0]) != len(matrix2[0]):\n",
        "        return \"Matrices must have the same dimensions for addition\"\n",
        "\n",
        "    # Perform matrix addition\n",
        "    result_matrix = [[matrix1[i][j] + matrix2[i][j] for j in range(len(matrix1[0]))] for i in range(len(matrix1))]\n",
        "    return result_matrix\n",
        "\n",
        "# Input from the user for the first matrix\n",
        "rows1 = int(input(\"Enter the number of rows for the first matrix: \"))\n",
        "cols1 = int(input(\"Enter the number of columns for the first matrix: \"))\n",
        "\n",
        "matrix1 = []\n",
        "print(\"Enter the elements of the first matrix:\")\n",
        "for i in range(rows1):\n",
        "    row = [int(input()) for _ in range(cols1)]\n",
        "    matrix1.append(row)\n",
        "\n",
        "# Input from the user for the second matrix\n",
        "rows2 = int(input(\"Enter the number of rows for the second matrix: \"))\n",
        "cols2 = int(input(\"Enter the number of columns for the second matrix: \"))\n",
        "\n",
        "matrix2 = []\n",
        "print(\"Enter the elements of the second matrix:\")\n",
        "for i in range(rows2):\n",
        "    row = [int(input()) for _ in range(cols2)]\n",
        "    matrix2.append(row)\n",
        "\n",
        "# Check if the matrices can be added and display the result\n",
        "result = add_matrices(matrix1, matrix2)\n",
        "if isinstance(result, str):\n",
        "    print(result)\n",
        "else:\n",
        "    print(\"The result of matrix addition is:\")\n",
        "    for row in result:\n",
        "        print(row)\n",
        ""
      ]
    },
    {
      "cell_type": "markdown",
      "source": [
        "2. Write a Python Program to Multiply Two Matrices?"
      ],
      "metadata": {
        "id": "zQqVV21xtO4O"
      }
    },
    {
      "cell_type": "code",
      "source": [
        "def multiply_matrices(matrix1, matrix2):\n",
        "    # Check if the matrices can be multiplied\n",
        "    if len(matrix1[0]) != len(matrix2):\n",
        "        return \"Number of columns in the first matrix must be equal to the number of rows in the second matrix\"\n",
        "\n",
        "    # Perform matrix multiplication\n",
        "    result_matrix = [[sum(matrix1[i][k] * matrix2[k][j] for k in range(len(matrix2))) for j in range(len(matrix2[0]))] for i in range(len(matrix1))]\n",
        "    return result_matrix\n",
        "\n",
        "# Input from the user for the first matrix\n",
        "rows1 = int(input(\"Enter the number of rows for the first matrix: \"))\n",
        "cols1 = int(input(\"Enter the number of columns for the first matrix: \"))\n",
        "\n",
        "matrix1 = []\n",
        "print(\"Enter the elements of the first matrix:\")\n",
        "for i in range(rows1):\n",
        "    row = [int(input()) for _ in range(cols1)]\n",
        "    matrix1.append(row)\n",
        "\n",
        "# Input from the user for the second matrix\n",
        "rows2 = int(input(\"Enter the number of rows for the second matrix: \"))\n",
        "cols2 = int(input(\"Enter the number of columns for the second matrix: \"))\n",
        "\n",
        "matrix2 = []\n",
        "print(\"Enter the elements of the second matrix:\")\n",
        "for i in range(rows2):\n",
        "    row = [int(input()) for _ in range(cols2)]\n",
        "    matrix2.append(row)\n",
        "\n",
        "# Check if the matrices can be multiplied and display the result\n",
        "result = multiply_matrices(matrix1, matrix2)\n",
        "if isinstance(result, str):\n",
        "    print(result)\n",
        "else:\n",
        "    print(\"The result of matrix multiplication is:\")\n",
        "    for row in result:\n",
        "        print(row)\n"
      ],
      "metadata": {
        "colab": {
          "base_uri": "https://localhost:8080/"
        },
        "id": "MxZ81RUatSeB",
        "outputId": "96f76ca0-edf6-4c95-a3b6-70bb2065e1c9"
      },
      "execution_count": 4,
      "outputs": [
        {
          "output_type": "stream",
          "name": "stdout",
          "text": [
            "Enter the number of rows for the first matrix: 2\n",
            "Enter the number of columns for the first matrix: 2\n",
            "Enter the elements of the first matrix:\n",
            "1\n",
            "2\n",
            "3\n",
            "6\n",
            "Enter the number of rows for the second matrix: 2\n",
            "Enter the number of columns for the second matrix: 2\n",
            "Enter the elements of the second matrix:\n",
            "6\n",
            "9\n",
            "8\n",
            "7\n",
            "The result of matrix multiplication is:\n",
            "[22, 23]\n",
            "[66, 69]\n"
          ]
        }
      ]
    },
    {
      "cell_type": "markdown",
      "source": [
        "3. Write a Python Program to Transpose a Matrix?"
      ],
      "metadata": {
        "id": "8sDApCnct0Qg"
      }
    },
    {
      "cell_type": "code",
      "source": [
        "def transpose_matrix(matrix):\n",
        "    # Perform matrix transposition\n",
        "    transposed_matrix = [[matrix[j][i] for j in range(len(matrix))] for i in range(len(matrix[0]))]\n",
        "    return transposed_matrix\n",
        "\n",
        "# Input from the user for the matrix\n",
        "rows = int(input(\"Enter the number of rows for the matrix: \"))\n",
        "cols = int(input(\"Enter the number of columns for the matrix: \"))\n",
        "\n",
        "matrix = []\n",
        "print(\"Enter the elements of the matrix:\")\n",
        "for i in range(rows):\n",
        "    row = [int(input()) for _ in range(cols)]\n",
        "    matrix.append(row)\n",
        "\n",
        "# Perform matrix transposition and display the result\n",
        "result = transpose_matrix(matrix)\n",
        "\n",
        "print(\"The original matrix is:\")\n",
        "for row in matrix:\n",
        "    print(row)\n",
        "\n",
        "print(\"\\nThe transposed matrix is:\")\n",
        "for row in result:\n",
        "    print(row)\n"
      ],
      "metadata": {
        "colab": {
          "base_uri": "https://localhost:8080/"
        },
        "id": "FEFe6P80t3z8",
        "outputId": "7cd8de0d-7eba-4775-c8de-180a4b1871f9"
      },
      "execution_count": 5,
      "outputs": [
        {
          "output_type": "stream",
          "name": "stdout",
          "text": [
            "Enter the number of rows for the matrix: 2\n",
            "Enter the number of columns for the matrix: 2\n",
            "Enter the elements of the matrix:\n",
            "3\n",
            "6\n",
            "9\n",
            "15\n",
            "The original matrix is:\n",
            "[3, 6]\n",
            "[9, 15]\n",
            "\n",
            "The transposed matrix is:\n",
            "[3, 9]\n",
            "[6, 15]\n"
          ]
        }
      ]
    },
    {
      "cell_type": "markdown",
      "source": [
        "4. Write a Python Program to Sort Words in Alphabetic Order?"
      ],
      "metadata": {
        "id": "yB3eV-D9vaPx"
      }
    },
    {
      "cell_type": "code",
      "source": [
        "my_str = \"He is a good person\"\n",
        "\n",
        "# To take input from the user\n",
        "#my_str = input(\"Enter a string: \")\n",
        "\n",
        "# breakdown the string into a list of words\n",
        "words = [word.lower() for word in my_str.split()]\n",
        "\n",
        "# sort the list\n",
        "words.sort()\n",
        "\n",
        "# display the sorted words\n",
        "\n",
        "print(\"The sorted words are:\")\n",
        "for word in words:\n",
        "   print(word)\n"
      ],
      "metadata": {
        "colab": {
          "base_uri": "https://localhost:8080/"
        },
        "id": "YHLZMDLzv_HJ",
        "outputId": "9237fbac-426a-491c-d5a3-956345cfa782"
      },
      "execution_count": 8,
      "outputs": [
        {
          "output_type": "stream",
          "name": "stdout",
          "text": [
            "The sorted words are:\n",
            "a\n",
            "good\n",
            "he\n",
            "is\n",
            "person\n"
          ]
        }
      ]
    },
    {
      "cell_type": "markdown",
      "source": [
        "5. Write a Python Program to Remove Punctuation From a String?"
      ],
      "metadata": {
        "id": "JcSVfGaXwZ4u"
      }
    },
    {
      "cell_type": "code",
      "source": [
        "import string\n",
        "\n",
        "def remove_punctuation(input_string):\n",
        "    # Create a translation table to map each punctuation character to None\n",
        "    translation_table = str.maketrans(\"\", \"\", string.punctuation)\n",
        "\n",
        "    # Remove punctuation using the translation table\n",
        "    result_string = input_string.translate(translation_table)\n",
        "\n",
        "    return result_string\n",
        "\n",
        "# Input from the user\n",
        "input_text = input(\"Enter a string with punctuation: \")\n",
        "\n",
        "# Remove punctuation and display the result\n",
        "result = remove_punctuation(input_text)\n",
        "print(\"String after removing punctuation:\")\n",
        "print(result)\n"
      ],
      "metadata": {
        "colab": {
          "base_uri": "https://localhost:8080/"
        },
        "id": "NrHVLmi6weJ7",
        "outputId": "4bf8af96-5f0d-4003-d6ad-901384e28b48"
      },
      "execution_count": 10,
      "outputs": [
        {
          "output_type": "stream",
          "name": "stdout",
          "text": [
            "Enter a string with punctuation: Hello, I'm Great man!\n",
            "String after removing punctuation:\n",
            "Hello Im Great man\n"
          ]
        }
      ]
    }
  ]
}